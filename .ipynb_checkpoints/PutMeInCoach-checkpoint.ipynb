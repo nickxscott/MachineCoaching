{
 "cells": [
  {
   "cell_type": "code",
   "execution_count": 1,
   "id": "bf98e02f-db8b-4155-ac3a-8f13ab631482",
   "metadata": {},
   "outputs": [],
   "source": [
    "import pandas as pd\n",
    "import numpy as np\n",
    "import datetime\n",
    "from datetime import date\n",
    "\n",
    "from functions import mins_to_meters, meters_to_mins\n",
    "\n",
    "from sklearn.linear_model import LinearRegression"
   ]
  },
  {
   "cell_type": "markdown",
   "id": "cd3c65ea-7d35-41cc-a08a-5fd5a2a80358",
   "metadata": {},
   "source": [
    "# athlete level model"
   ]
  },
  {
   "cell_type": "code",
   "execution_count": 2,
   "id": "f9f418a4-c1d7-44ce-b1a6-c92a9416bff5",
   "metadata": {},
   "outputs": [
    {
     "name": "stdout",
     "output_type": "stream",
     "text": [
      "score:  0.9823553977865943\n",
      "coefficients:  [4.13143795 0.0949052 ]\n",
      "intercept:  -10.888737461832598\n"
     ]
    }
   ],
   "source": [
    "#create model for calculating athlete level\n",
    "data = {'speed': [4.291573333333333, 5.109015873015872, 2.438393939393939, 2.682233333333333], \n",
    "        'distance': [26.2, 3.1, 26.2, 3.1],'level': [10, 10, 1, 1]}\n",
    "df_pace_lvl = pd.DataFrame(data)\n",
    "\n",
    "#calculate slope and intercept -linear\n",
    "X = df_pace_lvl[['speed', 'distance']]\n",
    "y = df_pace_lvl['level']\n",
    "level = LinearRegression().fit(X, y)\n",
    "print('score: ', level.score(X, y))\n",
    "print('coefficients: ', level.coef_)\n",
    "print('intercept: ', level.intercept_)"
   ]
  },
  {
   "cell_type": "markdown",
   "id": "b52c77d1-6299-415d-bd6d-c7e8ad0b1b2f",
   "metadata": {},
   "source": [
    "# distance factor model"
   ]
  },
  {
   "cell_type": "code",
   "execution_count": 3,
   "id": "7f3269d8-4e97-4fe9-a6ce-08bb14684e90",
   "metadata": {},
   "outputs": [],
   "source": [
    "#modeling distance factor from athl_level (bound to 1-10)\n",
    "data = {'level': [10, 1], \n",
    "        'dist_factor': [1, 0.5]}\n",
    "df_distance_lvl = pd.DataFrame(data)\n",
    "dist_model = np.poly1d(np.polyfit(df_distance_lvl['level'], df_distance_lvl['dist_factor'], 1))"
   ]
  },
  {
   "cell_type": "markdown",
   "id": "117ab41b-e3a0-4142-a7f0-ce01cc613ad2",
   "metadata": {},
   "source": [
    "# main function for base calendar "
   ]
  },
  {
   "cell_type": "code",
   "execution_count": 4,
   "id": "4088767e-213d-4e19-bfbf-0782ea70bcc9",
   "metadata": {},
   "outputs": [],
   "source": [
    "#function to date race date, number of weeks to train, and generate \n",
    "def get_calendar(race_year, race_month, race_day, weeks, pace_min, pace_sec, distance):\n",
    "    \n",
    "    #calcluate meters per second (speed) from goal pace\n",
    "    speed = mins_to_meters(m=pace_min, s=pace_sec)\n",
    "    \n",
    "    race_date = date(race_year, race_month, race_day+1)\n",
    "    \n",
    "    cal = weeks*7\n",
    "    \n",
    "    date_list = [race_date - datetime.timedelta(days=x) for x in range(1,(cal+1))]\n",
    "    \n",
    "    date_list.reverse()\n",
    "    \n",
    "    days = []\n",
    "\n",
    "    for x in date_list:\n",
    "        days.append(x.weekday())\n",
    "        \n",
    "    data = {'date': date_list, 'day_code': days}\n",
    "    \n",
    "    df_training_cal = pd.DataFrame(data)\n",
    "    \n",
    "    #create validation table for weekday codes/desc to join to training calendar\n",
    "    weekdays = {'day_code': range(0,7), 'day_desc': ['Mon', 'Tues', 'Wed', 'Thurs', 'Fri', 'Sat', 'Sun']}\n",
    "    df_weekdays = pd.DataFrame(weekdays)\n",
    "    df_weekdays\n",
    "    \n",
    "    df_training_cal = pd.merge(df_training_cal, df_weekdays, how='left', on='day_code')\n",
    "    \n",
    "    #find first monday and crop calendar down to start on first monday\n",
    "    first_mon = df_training_cal[df_training_cal.day_code == 0].index[0]\n",
    "    df_training_cal = df_training_cal.iloc[first_mon:]\n",
    "    \n",
    "    #create column for week count\n",
    "    week = []\n",
    "    count = 0\n",
    "    for index, row in df_training_cal.iterrows():\n",
    "        if row.day_code == 0:\n",
    "            count += 1\n",
    "            week.append(count)\n",
    "        else:\n",
    "            week.append(count)\n",
    "    df_training_cal['week']=week\n",
    "    \n",
    "    #create column for training phase\n",
    "    #2 week taper for blocks under 14 weeks, 3 week taper for blocks >= 14 weeks\n",
    "    block = 0\n",
    "    if weeks < 14:\n",
    "        block += (df_training_cal.week.max() - 2)\n",
    "    if weeks >= 14:\n",
    "        block += (df_training_cal.week.max() - 3)\n",
    "    base = np.ceil(block*0.4)\n",
    "    peak = np.floor(block*0.6)\n",
    "\n",
    "    phase= []\n",
    "\n",
    "    for index, row in df_training_cal.iterrows():\n",
    "        if row.week <= base:\n",
    "            phase.append('base')\n",
    "        elif row.week-base <= peak:\n",
    "            phase.append('peak')\n",
    "        else:\n",
    "            phase.append('taper')\n",
    "    df_training_cal['phase']=phase\n",
    "    \n",
    "    #calculate level and assign to level raw (used for pace calc)\n",
    "    #if level raw is outside range(1,10), bound to nearest level and assign to dist_level (used for max distance calc)\n",
    "    user_X = pd.DataFrame({'speed': [speed], 'distance': [distance]})\n",
    "    level_raw = level.predict(user_X)[0]\n",
    "    dist_level = []\n",
    "    \n",
    "    if level_raw < 1:\n",
    "        dist_level.append(1)\n",
    "    elif level_raw > 10:\n",
    "        dist_level.append(10)\n",
    "    else:\n",
    "        dist_level.append(level_raw)\n",
    "        \n",
    "    #calculate paces (to be used for workouts)\n",
    "    b1 = level.coef_[0]\n",
    "    b2 = level.coef_[1]\n",
    "    b0 = level.intercept_\n",
    "\n",
    "    five_k = ((level_raw - b0) - (3.1*b2)) / b1\n",
    "    ten_k = ((level_raw - b0) - (10.2*b2)) / b1\n",
    "    hmp = ((level_raw - b0) - (13.1*b2)) / b1\n",
    "    mp = ((level_raw - b0) - (26.2*b2)) / b1\n",
    "    \n",
    "    #weekly mileage peak\n",
    "    mileage_max = 0\n",
    "    if distance == 3.1:\n",
    "        mileage_max += 45\n",
    "    elif distance == 6.2:\n",
    "        mileage_max += 50\n",
    "    elif distance == 13.1:\n",
    "        mileage_max += 60\n",
    "    elif distance == 26.2:\n",
    "        mileage_max += 75\n",
    "        \n",
    "    dist_factor = dist_model(dist_level[0]) \n",
    "    \n",
    "    user_max = mileage_max*dist_factor\n",
    "    #user_max = mileage_max-(level_final[0]*3)\n",
    "    \n",
    "    #weekly mileage\n",
    "    base = len(df_training_cal.loc[df_training_cal.phase=='base'].week.unique())\n",
    "    peak = len(df_training_cal.loc[df_training_cal.phase=='peak'].week.unique())\n",
    "    taper = len(df_training_cal.loc[df_training_cal.phase=='taper'].week.unique())\n",
    "    \n",
    "    week_1 = round(user_max/3, 1)\n",
    "    build = user_max-week_1\n",
    "    weekly_miles = []\n",
    "    \n",
    "    week_num = []\n",
    "    \n",
    "    for index, row in df_training_cal.iterrows():\n",
    "        if row.week not in week_num:\n",
    "            week_num.append(row.week)\n",
    "            \n",
    "    weekly_miles = [week_1]\n",
    "    miles = 0\n",
    "    \n",
    "    for i in range(1,base):\n",
    "        miles += build/(base-1)\n",
    "        weekly_miles.append(round(week_1+miles, 1))\n",
    "    \n",
    "    for i in range(1, peak+1):\n",
    "        weekly_miles.append(round(user_max, 1))\n",
    "    \n",
    "    if taper == 2:\n",
    "        weekly_miles.append(user_max*0.7)\n",
    "        weekly_miles.append(user_max*0.4)\n",
    "        \n",
    "    if taper == 3:\n",
    "        weekly_miles.append(round(user_max*0.85, 1))\n",
    "        weekly_miles.append(round(user_max*0.65, 1))\n",
    "        weekly_miles.append(round(user_max*0.3, 1))\n",
    "    \n",
    "    data = {'week': week_num, 'mileage': weekly_miles}\n",
    "    df_mileage = pd.DataFrame(data)\n",
    "    \n",
    "    #add weekly mileage into df_training_cal\n",
    "    weekly_mileage = []\n",
    "    for index, row in df_training_cal.iterrows():\n",
    "        weekly_mileage.append(df_mileage.loc[df_mileage.week == row.week].mileage.values[0])\n",
    "    \n",
    "    df_training_cal[\"weekly_mileage\"] = weekly_mileage\n",
    "    \n",
    "    #add down week for training blocks >= 14 weeks\n",
    "    if weeks >= 14:\n",
    "        down_phase = []\n",
    "        down_mileage = []\n",
    "        \n",
    "        for index, row in df_training_cal.iterrows():\n",
    "            if row.week == (base + (peak-2)):\n",
    "                down_phase.append('down')\n",
    "                down_mileage.append(round(user_max*0.5, 1))\n",
    "            else:\n",
    "                down_phase.append(row.phase)\n",
    "                down_mileage.append(row.weekly_mileage)\n",
    "                \n",
    "        df_training_cal['phase']=down_phase\n",
    "        df_training_cal['weekly_mileage']=down_mileage\n",
    "    \n",
    "    return df_training_cal, level_raw, dist_level, user_max, df_mileage, speed, five_k, ten_k, hmp, mp"
   ]
  },
  {
   "cell_type": "code",
   "execution_count": 48,
   "id": "316469b5-3b2f-40a3-8471-b0cd76f0508d",
   "metadata": {},
   "outputs": [
    {
     "name": "stdout",
     "output_type": "stream",
     "text": [
      "raw level:  -4.107684411631659\n",
      "mp:  (25, 48.24)\n",
      "hmp:  (20, 0.6599999999999999)\n",
      "10k:  (19, 3.7800000000000002)\n",
      "5k:  (17, 4.98)\n"
     ]
    }
   ],
   "source": [
    "result = get_calendar(race_year=2023, race_month=11, race_day=19, weeks=16, pace_min=17, pace_sec=5, distance=3.1)\n",
    "print('raw level: ', result[1])\n",
    "print('mp: ', meters_to_mins(result[9]))\n",
    "print('hmp: ', meters_to_mins(result[8]))\n",
    "print('10k: ', meters_to_mins(result[7]))\n",
    "print('5k: ', meters_to_mins(result[6]))"
   ]
  },
  {
   "cell_type": "code",
   "execution_count": 28,
   "id": "fcca17df-56e1-4b49-abb7-a4a20f1f8b2c",
   "metadata": {},
   "outputs": [
    {
     "data": {
      "text/html": [
       "<div>\n",
       "<style scoped>\n",
       "    .dataframe tbody tr th:only-of-type {\n",
       "        vertical-align: middle;\n",
       "    }\n",
       "\n",
       "    .dataframe tbody tr th {\n",
       "        vertical-align: top;\n",
       "    }\n",
       "\n",
       "    .dataframe thead th {\n",
       "        text-align: right;\n",
       "    }\n",
       "</style>\n",
       "<table border=\"1\" class=\"dataframe\">\n",
       "  <thead>\n",
       "    <tr style=\"text-align: right;\">\n",
       "      <th></th>\n",
       "      <th>week</th>\n",
       "      <th>phase</th>\n",
       "      <th>weekly_mileage</th>\n",
       "    </tr>\n",
       "  </thead>\n",
       "  <tbody>\n",
       "    <tr>\n",
       "      <th>0</th>\n",
       "      <td>1</td>\n",
       "      <td>base</td>\n",
       "      <td>10.9</td>\n",
       "    </tr>\n",
       "    <tr>\n",
       "      <th>7</th>\n",
       "      <td>2</td>\n",
       "      <td>base</td>\n",
       "      <td>15.2</td>\n",
       "    </tr>\n",
       "    <tr>\n",
       "      <th>14</th>\n",
       "      <td>3</td>\n",
       "      <td>base</td>\n",
       "      <td>19.6</td>\n",
       "    </tr>\n",
       "    <tr>\n",
       "      <th>21</th>\n",
       "      <td>4</td>\n",
       "      <td>base</td>\n",
       "      <td>23.9</td>\n",
       "    </tr>\n",
       "    <tr>\n",
       "      <th>28</th>\n",
       "      <td>5</td>\n",
       "      <td>base</td>\n",
       "      <td>28.3</td>\n",
       "    </tr>\n",
       "    <tr>\n",
       "      <th>35</th>\n",
       "      <td>6</td>\n",
       "      <td>base</td>\n",
       "      <td>32.6</td>\n",
       "    </tr>\n",
       "    <tr>\n",
       "      <th>42</th>\n",
       "      <td>7</td>\n",
       "      <td>peak</td>\n",
       "      <td>32.6</td>\n",
       "    </tr>\n",
       "    <tr>\n",
       "      <th>49</th>\n",
       "      <td>8</td>\n",
       "      <td>peak</td>\n",
       "      <td>32.6</td>\n",
       "    </tr>\n",
       "    <tr>\n",
       "      <th>56</th>\n",
       "      <td>9</td>\n",
       "      <td>peak</td>\n",
       "      <td>32.6</td>\n",
       "    </tr>\n",
       "    <tr>\n",
       "      <th>63</th>\n",
       "      <td>10</td>\n",
       "      <td>peak</td>\n",
       "      <td>32.6</td>\n",
       "    </tr>\n",
       "    <tr>\n",
       "      <th>70</th>\n",
       "      <td>11</td>\n",
       "      <td>down</td>\n",
       "      <td>16.3</td>\n",
       "    </tr>\n",
       "    <tr>\n",
       "      <th>77</th>\n",
       "      <td>12</td>\n",
       "      <td>peak</td>\n",
       "      <td>32.6</td>\n",
       "    </tr>\n",
       "    <tr>\n",
       "      <th>84</th>\n",
       "      <td>13</td>\n",
       "      <td>peak</td>\n",
       "      <td>32.6</td>\n",
       "    </tr>\n",
       "    <tr>\n",
       "      <th>91</th>\n",
       "      <td>14</td>\n",
       "      <td>taper</td>\n",
       "      <td>27.7</td>\n",
       "    </tr>\n",
       "    <tr>\n",
       "      <th>98</th>\n",
       "      <td>15</td>\n",
       "      <td>taper</td>\n",
       "      <td>21.2</td>\n",
       "    </tr>\n",
       "    <tr>\n",
       "      <th>105</th>\n",
       "      <td>16</td>\n",
       "      <td>taper</td>\n",
       "      <td>9.8</td>\n",
       "    </tr>\n",
       "  </tbody>\n",
       "</table>\n",
       "</div>"
      ],
      "text/plain": [
       "     week  phase  weekly_mileage\n",
       "0       1   base            10.9\n",
       "7       2   base            15.2\n",
       "14      3   base            19.6\n",
       "21      4   base            23.9\n",
       "28      5   base            28.3\n",
       "35      6   base            32.6\n",
       "42      7   peak            32.6\n",
       "49      8   peak            32.6\n",
       "56      9   peak            32.6\n",
       "63     10   peak            32.6\n",
       "70     11   down            16.3\n",
       "77     12   peak            32.6\n",
       "84     13   peak            32.6\n",
       "91     14  taper            27.7\n",
       "98     15  taper            21.2\n",
       "105    16  taper             9.8"
      ]
     },
     "execution_count": 28,
     "metadata": {},
     "output_type": "execute_result"
    }
   ],
   "source": [
    "result[0][['week', 'phase', 'weekly_mileage']].drop_duplicates()"
   ]
  },
  {
   "cell_type": "markdown",
   "id": "4a7f3399-84fa-4533-9f75-061c4b4997cd",
   "metadata": {},
   "source": [
    "# pace predict"
   ]
  },
  {
   "cell_type": "code",
   "execution_count": 169,
   "id": "da6757a8-9337-4f2e-9daa-ff5272e08a16",
   "metadata": {},
   "outputs": [
    {
     "name": "stdout",
     "output_type": "stream",
     "text": [
      "coefficients:  [4.13143795 0.0949052 ]\n",
      "intercept:  -10.888737461832598\n",
      "level:  9.254081579750807\n"
     ]
    }
   ],
   "source": [
    "print('coefficients: ', level.coef_)\n",
    "print('intercept: ', level.intercept_)\n",
    "print('level: ', result[1])"
   ]
  },
  {
   "cell_type": "code",
   "execution_count": 170,
   "id": "cda652f7-a843-4556-8065-101be394c6a9",
   "metadata": {},
   "outputs": [],
   "source": [
    "level_raw = result[1]\n",
    "b1 = level.coef_[0]\n",
    "b2 = level.coef_[1]\n",
    "b0 = level.intercept_\n",
    "\n",
    "five_k = ((level_raw - b0) - (3.1*b2)) / b1\n",
    "ten_k = ((level_raw - b0) - (10.2*b2)) / b1\n",
    "hmp = ((level_raw - b0) - (13.1*b2)) / b1\n",
    "mp = ((level_raw - b0) - (26.2*b2)) / b1"
   ]
  },
  {
   "cell_type": "code",
   "execution_count": 171,
   "id": "35132bf0-fa0d-4b34-af70-95e2ecbd5035",
   "metadata": {},
   "outputs": [
    {
     "name": "stdout",
     "output_type": "stream",
     "text": [
      "5k pace:  (5, 34.98)\n",
      "10k pace:  (5, 46.74)\n",
      "hm pace:  (5, 51.78)\n",
      "m pace:  (6, 16.560000000000002)\n"
     ]
    }
   ],
   "source": [
    "print('5k pace: ', meters_to_mins(five_k))\n",
    "print('10k pace: ', meters_to_mins(ten_k))\n",
    "print('hm pace: ', meters_to_mins(hmp))\n",
    "print('m pace: ', meters_to_mins(mp))"
   ]
  },
  {
   "cell_type": "code",
   "execution_count": 35,
   "id": "ea65c8b4-a256-462f-8515-866f5f987b6e",
   "metadata": {},
   "outputs": [
    {
     "data": {
      "text/plain": [
       "2.232"
      ]
     },
     "execution_count": 35,
     "metadata": {},
     "output_type": "execute_result"
    }
   ],
   "source": [
    "((3*800 + 3*400)/1000)*0.62"
   ]
  },
  {
   "cell_type": "code",
   "execution_count": 30,
   "id": "a2d4918e-db13-490c-ade9-68da24d8c46e",
   "metadata": {},
   "outputs": [
    {
     "data": {
      "text/plain": [
       "1.65"
      ]
     },
     "execution_count": 30,
     "metadata": {},
     "output_type": "execute_result"
    }
   ],
   "source": [
    "11*.15"
   ]
  },
  {
   "cell_type": "code",
   "execution_count": 38,
   "id": "e78ab4e1-26c0-4132-b950-3e10c8976300",
   "metadata": {},
   "outputs": [
    {
     "data": {
      "text/plain": [
       "0.1"
      ]
     },
     "execution_count": 38,
     "metadata": {},
     "output_type": "execute_result"
    }
   ],
   "source": [
    "(1/600)*60"
   ]
  },
  {
   "cell_type": "code",
   "execution_count": 43,
   "id": "30b7150d-53ab-4e60-a24b-c196152f8b42",
   "metadata": {},
   "outputs": [
    {
     "name": "stdout",
     "output_type": "stream",
     "text": [
      "30 sec:  0.05\n",
      "45 sec:  0.07500000000000001\n",
      "60 sec:  0.1\n",
      "90 sec:  0.15000000000000002\n",
      "2 min:  0.2\n",
      "2.5 min:  0.25\n"
     ]
    }
   ],
   "source": [
    "#jog rest intervals in miles:\n",
    "\n",
    "print('30 sec: ', (1/600)*30)\n",
    "print('45 sec: ', (1/600)*45)\n",
    "print('60 sec: ', (1/600)*60)\n",
    "print('90 sec: ', (1/600)*90)\n",
    "print('2 min: ', (1/600)*120)\n",
    "print('2.5 min: ', (1/600)*150)\n"
   ]
  },
  {
   "cell_type": "code",
   "execution_count": 42,
   "id": "abe864a6-7838-4640-96c2-e30b44bd6b98",
   "metadata": {},
   "outputs": [
    {
     "data": {
      "text/plain": [
       "0.9000000000000001"
      ]
     },
     "execution_count": 42,
     "metadata": {},
     "output_type": "execute_result"
    }
   ],
   "source": [
    "0.2*3 + 0.15*2"
   ]
  },
  {
   "cell_type": "code",
   "execution_count": 44,
   "id": "b14699cf-56cc-4f3d-918c-00aa90487847",
   "metadata": {},
   "outputs": [
    {
     "data": {
      "text/plain": [
       "1.0"
      ]
     },
     "execution_count": 44,
     "metadata": {},
     "output_type": "execute_result"
    }
   ],
   "source": [
    "0.15 + 0.1*2 + 0.075*4 + 0.05*7"
   ]
  },
  {
   "cell_type": "code",
   "execution_count": 47,
   "id": "6d53ea1b-2a16-4411-a6b6-a0563347c2b5",
   "metadata": {},
   "outputs": [
    {
     "data": {
      "text/plain": [
       "0.575"
      ]
     },
     "execution_count": 47,
     "metadata": {},
     "output_type": "execute_result"
    }
   ],
   "source": [
    "0.15 + 0.1*2 + 0.075*3"
   ]
  },
  {
   "cell_type": "code",
   "execution_count": null,
   "id": "c444b83c-f194-4525-9e16-ecdcfe9fae97",
   "metadata": {},
   "outputs": [],
   "source": []
  }
 ],
 "metadata": {
  "kernelspec": {
   "display_name": "Python 3 (ipykernel)",
   "language": "python",
   "name": "python3"
  },
  "language_info": {
   "codemirror_mode": {
    "name": "ipython",
    "version": 3
   },
   "file_extension": ".py",
   "mimetype": "text/x-python",
   "name": "python",
   "nbconvert_exporter": "python",
   "pygments_lexer": "ipython3",
   "version": "3.9.9"
  }
 },
 "nbformat": 4,
 "nbformat_minor": 5
}
