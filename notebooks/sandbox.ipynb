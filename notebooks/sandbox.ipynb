{
 "cells": [
  {
   "cell_type": "code",
   "execution_count": 1,
   "id": "5c72c328-3486-4edb-9c40-6cd384df474a",
   "metadata": {},
   "outputs": [
    {
     "name": "stderr",
     "output_type": "stream",
     "text": [
      "C:\\Users\\scottn\\Anaconda3\\envs\\SJU_DS\\lib\\site-packages\\sklearn\\base.py:329: UserWarning: Trying to unpickle estimator LinearRegression from version 1.0.2 when using version 1.1.2. This might lead to breaking code or invalid results. Use at your own risk. For more info please refer to:\n",
      "https://scikit-learn.org/stable/model_persistence.html#security-maintainability-limitations\n",
      "  warnings.warn(\n"
     ]
    }
   ],
   "source": [
    "import sys\n",
    "sys.path.append('../backend/')\n",
    "from functions import *\n",
    "\n",
    "import seaborn as sns\n",
    "from IPython.core.pylabtools import figsize\n",
    "import matplotlib.pyplot as plt\n",
    "from datetime import datetime, date, timedelta\n",
    "#import plotly.express as px"
   ]
  },
  {
   "cell_type": "code",
   "execution_count": 6,
   "id": "bd3aa879-d9d4-4a48-a00e-65e3cdf88901",
   "metadata": {},
   "outputs": [
    {
     "name": "stdout",
     "output_type": "stream",
     "text": [
      "raw level:  8.172970329423109\n",
      "dist level:  [8.172970329423109]\n",
      "z2:  5:08/km\n",
      "mp:  4:14/km\n",
      "hmp:  3:53/km\n",
      "10k:  3:43/km\n",
      "5k:  3:39/km\n"
     ]
    }
   ],
   "source": [
    "race_date=date(2024, 3, 14)\n",
    "units='km'\n",
    "#speed=mins_to_meters(m=6, s=15)\n",
    "speed=minskm_to_meters(m=3, s=53)\n",
    "result=get_calendar(date=race_date, weeks=12, speed=speed, race_dist=13.1, units=units)\n",
    "\n",
    "print('raw level: ', result[1])\n",
    "print('dist level: ', result[2])\n",
    "print('z2: ', pace_to_str(result[10], unit=units))\n",
    "print('mp: ', pace_to_str(result[9], unit=units))\n",
    "print('hmp: ', pace_to_str(result[8], unit=units))\n",
    "print('10k: ', pace_to_str(result[7], unit=units))\n",
    "print('5k: ', pace_to_str(result[6], unit=units))\n",
    "result[0].to_csv('kmHalf.csv', index=False)\n",
    "#[['date', 'day_desc', 'week', 'phase', 'distance', 'dist_km', 'run_type', 'run_name', 'pace', 'run_desc']]\\\n"
   ]
  },
  {
   "cell_type": "code",
   "execution_count": 7,
   "id": "285e0b56-33c0-42e4-96f9-d7c4cf01d800",
   "metadata": {},
   "outputs": [],
   "source": [
    "df=pd.read_csv('kmHalf.csv')"
   ]
  },
  {
   "cell_type": "raw",
   "id": "80a33a0c-3ddd-408c-9a25-4929512213e4",
   "metadata": {},
   "source": [
    "df=pd.read_csv('test.csv')"
   ]
  },
  {
   "cell_type": "code",
   "execution_count": null,
   "id": "11e5145b-2407-4d36-9ae6-8a94dcd71ad1",
   "metadata": {},
   "outputs": [],
   "source": []
  },
  {
   "cell_type": "code",
   "execution_count": 8,
   "id": "995161f0-517b-4178-a76e-032c0964e1c9",
   "metadata": {},
   "outputs": [
    {
     "data": {
      "text/html": [
       "<div>\n",
       "<style scoped>\n",
       "    .dataframe tbody tr th:only-of-type {\n",
       "        vertical-align: middle;\n",
       "    }\n",
       "\n",
       "    .dataframe tbody tr th {\n",
       "        vertical-align: top;\n",
       "    }\n",
       "\n",
       "    .dataframe thead th {\n",
       "        text-align: right;\n",
       "    }\n",
       "</style>\n",
       "<table border=\"1\" class=\"dataframe\">\n",
       "  <thead>\n",
       "    <tr style=\"text-align: right;\">\n",
       "      <th></th>\n",
       "      <th>date</th>\n",
       "      <th>day_code</th>\n",
       "      <th>day_desc</th>\n",
       "      <th>week</th>\n",
       "      <th>phase</th>\n",
       "      <th>weekly_mileage</th>\n",
       "      <th>runs_per_week</th>\n",
       "      <th>distance</th>\n",
       "      <th>run_type</th>\n",
       "      <th>run_desc</th>\n",
       "      <th>run_name</th>\n",
       "      <th>pace</th>\n",
       "      <th>dist_km</th>\n",
       "    </tr>\n",
       "  </thead>\n",
       "  <tbody>\n",
       "    <tr>\n",
       "      <th>0</th>\n",
       "      <td>2023-12-25</td>\n",
       "      <td>0</td>\n",
       "      <td>Mon</td>\n",
       "      <td>1</td>\n",
       "      <td>base</td>\n",
       "      <td>18.000000</td>\n",
       "      <td>4</td>\n",
       "      <td>0.00</td>\n",
       "      <td>rest</td>\n",
       "      <td>This is a rest day. Prioritize relaxation and ...</td>\n",
       "      <td>Rest Day</td>\n",
       "      <td>-</td>\n",
       "      <td>0.00</td>\n",
       "    </tr>\n",
       "    <tr>\n",
       "      <th>1</th>\n",
       "      <td>2023-12-26</td>\n",
       "      <td>1</td>\n",
       "      <td>Tues</td>\n",
       "      <td>1</td>\n",
       "      <td>base</td>\n",
       "      <td>18.000000</td>\n",
       "      <td>4</td>\n",
       "      <td>3.10</td>\n",
       "      <td>easy</td>\n",
       "      <td>This run should be easy enough that you could ...</td>\n",
       "      <td>Easy Day</td>\n",
       "      <td>5:08/km</td>\n",
       "      <td>4.99</td>\n",
       "    </tr>\n",
       "    <tr>\n",
       "      <th>2</th>\n",
       "      <td>2023-12-27</td>\n",
       "      <td>2</td>\n",
       "      <td>Wed</td>\n",
       "      <td>1</td>\n",
       "      <td>base</td>\n",
       "      <td>18.000000</td>\n",
       "      <td>4</td>\n",
       "      <td>5.75</td>\n",
       "      <td>workout</td>\n",
       "      <td>1 mile warm up followd by 6 reps of 800m with ...</td>\n",
       "      <td>6 x 800m</td>\n",
       "      <td>4:14/km</td>\n",
       "      <td>9.25</td>\n",
       "    </tr>\n",
       "    <tr>\n",
       "      <th>3</th>\n",
       "      <td>2023-12-28</td>\n",
       "      <td>3</td>\n",
       "      <td>Thurs</td>\n",
       "      <td>1</td>\n",
       "      <td>base</td>\n",
       "      <td>18.000000</td>\n",
       "      <td>4</td>\n",
       "      <td>3.10</td>\n",
       "      <td>easy</td>\n",
       "      <td>This run should be easy enough that you could ...</td>\n",
       "      <td>Easy Day</td>\n",
       "      <td>5:08/km</td>\n",
       "      <td>4.99</td>\n",
       "    </tr>\n",
       "    <tr>\n",
       "      <th>4</th>\n",
       "      <td>2023-12-29</td>\n",
       "      <td>4</td>\n",
       "      <td>Fri</td>\n",
       "      <td>1</td>\n",
       "      <td>base</td>\n",
       "      <td>18.000000</td>\n",
       "      <td>4</td>\n",
       "      <td>0.00</td>\n",
       "      <td>rest</td>\n",
       "      <td>This is a rest day. Prioritize relaxation and ...</td>\n",
       "      <td>Rest Day</td>\n",
       "      <td>-</td>\n",
       "      <td>0.00</td>\n",
       "    </tr>\n",
       "    <tr>\n",
       "      <th>...</th>\n",
       "      <td>...</td>\n",
       "      <td>...</td>\n",
       "      <td>...</td>\n",
       "      <td>...</td>\n",
       "      <td>...</td>\n",
       "      <td>...</td>\n",
       "      <td>...</td>\n",
       "      <td>...</td>\n",
       "      <td>...</td>\n",
       "      <td>...</td>\n",
       "      <td>...</td>\n",
       "      <td>...</td>\n",
       "      <td>...</td>\n",
       "    </tr>\n",
       "    <tr>\n",
       "      <th>76</th>\n",
       "      <td>2024-03-10</td>\n",
       "      <td>6</td>\n",
       "      <td>Sun</td>\n",
       "      <td>11</td>\n",
       "      <td>taper</td>\n",
       "      <td>37.736931</td>\n",
       "      <td>5</td>\n",
       "      <td>6.10</td>\n",
       "      <td>easy</td>\n",
       "      <td>This run should be easy enough that you could ...</td>\n",
       "      <td>Easy Day</td>\n",
       "      <td>5:08/km</td>\n",
       "      <td>9.82</td>\n",
       "    </tr>\n",
       "    <tr>\n",
       "      <th>77</th>\n",
       "      <td>2024-03-11</td>\n",
       "      <td>0</td>\n",
       "      <td>Mon</td>\n",
       "      <td>12</td>\n",
       "      <td>taper</td>\n",
       "      <td>21.563960</td>\n",
       "      <td>4</td>\n",
       "      <td>0.00</td>\n",
       "      <td>rest</td>\n",
       "      <td>This is a rest day. Prioritize relaxation and ...</td>\n",
       "      <td>Rest Day</td>\n",
       "      <td>-</td>\n",
       "      <td>0.00</td>\n",
       "    </tr>\n",
       "    <tr>\n",
       "      <th>78</th>\n",
       "      <td>2024-03-12</td>\n",
       "      <td>1</td>\n",
       "      <td>Tues</td>\n",
       "      <td>12</td>\n",
       "      <td>taper</td>\n",
       "      <td>21.563960</td>\n",
       "      <td>4</td>\n",
       "      <td>4.80</td>\n",
       "      <td>easy</td>\n",
       "      <td>The majority of this run should be at your usu...</td>\n",
       "      <td>Easy + Strides</td>\n",
       "      <td>5:08/km</td>\n",
       "      <td>7.72</td>\n",
       "    </tr>\n",
       "    <tr>\n",
       "      <th>79</th>\n",
       "      <td>2024-03-13</td>\n",
       "      <td>2</td>\n",
       "      <td>Wed</td>\n",
       "      <td>12</td>\n",
       "      <td>taper</td>\n",
       "      <td>21.563960</td>\n",
       "      <td>4</td>\n",
       "      <td>4.80</td>\n",
       "      <td>easy</td>\n",
       "      <td>The majority of this run should be at your usu...</td>\n",
       "      <td>Easy + Strides</td>\n",
       "      <td>5:08/km</td>\n",
       "      <td>7.72</td>\n",
       "    </tr>\n",
       "    <tr>\n",
       "      <th>80</th>\n",
       "      <td>2024-03-14</td>\n",
       "      <td>3</td>\n",
       "      <td>Thurs</td>\n",
       "      <td>12</td>\n",
       "      <td>taper</td>\n",
       "      <td>21.563960</td>\n",
       "      <td>4</td>\n",
       "      <td>13.10</td>\n",
       "      <td>race</td>\n",
       "      <td>Race day has arrived! Be patient, stick to you...</td>\n",
       "      <td>Race Day</td>\n",
       "      <td>3:53/km</td>\n",
       "      <td>21.08</td>\n",
       "    </tr>\n",
       "  </tbody>\n",
       "</table>\n",
       "<p>81 rows × 13 columns</p>\n",
       "</div>"
      ],
      "text/plain": [
       "          date  day_code day_desc  week  phase  weekly_mileage  runs_per_week  \\\n",
       "0   2023-12-25         0      Mon     1   base       18.000000              4   \n",
       "1   2023-12-26         1     Tues     1   base       18.000000              4   \n",
       "2   2023-12-27         2      Wed     1   base       18.000000              4   \n",
       "3   2023-12-28         3    Thurs     1   base       18.000000              4   \n",
       "4   2023-12-29         4      Fri     1   base       18.000000              4   \n",
       "..         ...       ...      ...   ...    ...             ...            ...   \n",
       "76  2024-03-10         6      Sun    11  taper       37.736931              5   \n",
       "77  2024-03-11         0      Mon    12  taper       21.563960              4   \n",
       "78  2024-03-12         1     Tues    12  taper       21.563960              4   \n",
       "79  2024-03-13         2      Wed    12  taper       21.563960              4   \n",
       "80  2024-03-14         3    Thurs    12  taper       21.563960              4   \n",
       "\n",
       "    distance run_type                                           run_desc  \\\n",
       "0       0.00     rest  This is a rest day. Prioritize relaxation and ...   \n",
       "1       3.10     easy  This run should be easy enough that you could ...   \n",
       "2       5.75  workout  1 mile warm up followd by 6 reps of 800m with ...   \n",
       "3       3.10     easy  This run should be easy enough that you could ...   \n",
       "4       0.00     rest  This is a rest day. Prioritize relaxation and ...   \n",
       "..       ...      ...                                                ...   \n",
       "76      6.10     easy  This run should be easy enough that you could ...   \n",
       "77      0.00     rest  This is a rest day. Prioritize relaxation and ...   \n",
       "78      4.80     easy  The majority of this run should be at your usu...   \n",
       "79      4.80     easy  The majority of this run should be at your usu...   \n",
       "80     13.10     race  Race day has arrived! Be patient, stick to you...   \n",
       "\n",
       "          run_name     pace  dist_km  \n",
       "0         Rest Day        -     0.00  \n",
       "1         Easy Day  5:08/km     4.99  \n",
       "2         6 x 800m  4:14/km     9.25  \n",
       "3         Easy Day  5:08/km     4.99  \n",
       "4         Rest Day        -     0.00  \n",
       "..             ...      ...      ...  \n",
       "76        Easy Day  5:08/km     9.82  \n",
       "77        Rest Day        -     0.00  \n",
       "78  Easy + Strides  5:08/km     7.72  \n",
       "79  Easy + Strides  5:08/km     7.72  \n",
       "80        Race Day  3:53/km    21.08  \n",
       "\n",
       "[81 rows x 13 columns]"
      ]
     },
     "execution_count": 8,
     "metadata": {},
     "output_type": "execute_result"
    }
   ],
   "source": [
    "df"
   ]
  },
  {
   "cell_type": "code",
   "execution_count": 5,
   "id": "6d8935ed-d044-4008-996c-de4e7f11eb5f",
   "metadata": {},
   "outputs": [
    {
     "data": {
      "text/plain": [
       "week\n",
       "1     17.95\n",
       "2     30.15\n",
       "3     41.90\n",
       "4     53.95\n",
       "5     53.85\n",
       "6     53.75\n",
       "7     54.10\n",
       "8     54.00\n",
       "9     54.05\n",
       "10    53.95\n",
       "11    37.85\n",
       "12    27.50\n",
       "Name: distance, dtype: float64"
      ]
     },
     "execution_count": 5,
     "metadata": {},
     "output_type": "execute_result"
    }
   ],
   "source": [
    "df.groupby(['week'])['distance'].sum()"
   ]
  },
  {
   "cell_type": "code",
   "execution_count": null,
   "id": "cb0a244f-4e28-4f82-a002-2d8ae37beef8",
   "metadata": {},
   "outputs": [],
   "source": []
  },
  {
   "cell_type": "code",
   "execution_count": 3,
   "id": "12accd2e-f14d-4df4-b181-d7218657b4af",
   "metadata": {},
   "outputs": [],
   "source": [
    "result[0].groupby(['week'])['distance'].sum().reset_index().to_csv('CoraHalf_Volume.csv', index=False)"
   ]
  },
  {
   "cell_type": "code",
   "execution_count": 4,
   "id": "0d244cfb-4e69-47bf-93a0-d58adaeb73dc",
   "metadata": {},
   "outputs": [
    {
     "data": {
      "image/png": "[encoded data removed]",
      "text/plain": [
       "<Figure size 1000x800 with 1 Axes>"
      ]
     },
     "metadata": {},
     "output_type": "display_data"
    }
   ],
   "source": [
    "df_vol = result[0].groupby(['week'])['distance'].sum().reset_index()\n",
    "\n",
    "fig, ax = plt.subplots(figsize=(10, 8))\n",
    "\n",
    "sns.barplot(data=df_vol, x='week', y='distance', edgecolor='grey', \n",
    "            palette=plt.cm.ScalarMappable(cmap='Blues').to_rgba(df_vol['distance']), ax=ax)\n",
    "\n",
    "ax.bar_label(ax.containers[0]);\n",
    "\n",
    "plt.savefig('CoraHalf_Volume.jpg')"
   ]
  },
  {
   "cell_type": "markdown",
   "id": "a2abe1fb-734e-436e-b151-3dfc8b1dd11d",
   "metadata": {},
   "source": [
    "# DB Connection"
   ]
  },
  {
   "cell_type": "code",
   "execution_count": 6,
   "id": "81a67b25-2d2a-40e7-b6d3-3ddefdf4dc5e",
   "metadata": {},
   "outputs": [],
   "source": [
    "import psycopg2"
   ]
  },
  {
   "cell_type": "code",
   "execution_count": 7,
   "id": "2a4ca901-96fe-4e06-9835-001b8acdf20d",
   "metadata": {},
   "outputs": [
    {
     "data": {
      "text/plain": [
       "True"
      ]
     },
     "execution_count": 7,
     "metadata": {},
     "output_type": "execute_result"
    }
   ],
   "source": [
    "import os\n",
    "from dotenv import load_dotenv\n",
    "\n",
    "load_dotenv('../pg.env')"
   ]
  },
  {
   "cell_type": "code",
   "execution_count": null,
   "id": "dfe5f399-fccd-4702-8d3c-40bae5bdcefb",
   "metadata": {},
   "outputs": [],
   "source": [
    "def get_data(env_path, query):\n",
    "    load_dotenv(env_path)\n",
    "    #read in sql query\n",
    "    f=open(query)\n",
    "    query_main=f.readlines()\n",
    "    f.close()\n",
    "    ### Setup snowflake connector\n",
    "    ctx = snowflake.connector.connect(\n",
    "        user=os.getenv('uid_snow'), \n",
    "        password=os.getenv('pwd_snow'), \n",
    "        account=os.getenv('account_snow'))\n",
    "    cs = ctx.cursor()\n",
    "    cs.execute('USE DATABASE BANNER_DB')\n",
    "    cs.execute('USE SCHEMA BANNER_LND')\n",
    "    cs.execute(\"\".join(query_main))\n",
    "    ### Turn into pandas data frame\n",
    "    D = cs.fetchall()\n",
    "    col_nms=[x.name for x in cs.description]\n",
    "    df=pd.DataFrame(D)\n",
    "    df.columns=col_nms\n",
    "    ### Close connections\n",
    "    cs.close()\n",
    "    ctx.close()    \n",
    "    return df"
   ]
  },
  {
   "cell_type": "code",
   "execution_count": 36,
   "id": "b457f782-0e06-41e1-bfcd-838dc8e2278e",
   "metadata": {},
   "outputs": [],
   "source": [
    "ENDPOINT=\"mc-db.curuzcat1uwx.us-east-2.rds.amazonaws.com\"\n",
    "PORT=\"5432\"\n",
    "USER=\"mydbuser\"\n",
    "REGION=\"us-east-2c\"\n",
    "DBNAME=\"postgres\"\n",
    "\n",
    "ENDPOINT=\"mc-db.curuzcat1uwx.us-east-2.rds.amazonaws.com\"\n",
    "PORT=\"5432\"\n",
    "USER=\"scottn_sql\"\n",
    "DBNAME=\"postgres\"\n",
    "PWD='299Adelphist..'"
   ]
  },
  {
   "cell_type": "code",
   "execution_count": 6,
   "id": "5abe4374-029b-49d6-9527-6485fba0a2a0",
   "metadata": {},
   "outputs": [
    {
     "data": {
      "text/html": [
       "<div>\n",
       "<style scoped>\n",
       "    .dataframe tbody tr th:only-of-type {\n",
       "        vertical-align: middle;\n",
       "    }\n",
       "\n",
       "    .dataframe tbody tr th {\n",
       "        vertical-align: top;\n",
       "    }\n",
       "\n",
       "    .dataframe thead th {\n",
       "        text-align: right;\n",
       "    }\n",
       "</style>\n",
       "<table border=\"1\" class=\"dataframe\">\n",
       "  <thead>\n",
       "    <tr style=\"text-align: right;\">\n",
       "      <th></th>\n",
       "      <th>user_id</th>\n",
       "      <th>first_name</th>\n",
       "      <th>last_name</th>\n",
       "      <th>email</th>\n",
       "      <th>pwd</th>\n",
       "      <th>terms</th>\n",
       "      <th>created</th>\n",
       "    </tr>\n",
       "  </thead>\n",
       "  <tbody>\n",
       "    <tr>\n",
       "      <th>0</th>\n",
       "      <td>1</td>\n",
       "      <td>Nicholas</td>\n",
       "      <td>Scott</td>\n",
       "      <td>nickxscott@gmail.com</td>\n",
       "      <td>$2b$12$NGDOlvgqFhj6iS3CsBqJOuoEa0lcByo5UDqHAhX...</td>\n",
       "      <td>True</td>\n",
       "      <td>2024-01-28 19:28:20.864446</td>\n",
       "    </tr>\n",
       "  </tbody>\n",
       "</table>\n",
       "</div>"
      ],
      "text/plain": [
       "   user_id first_name last_name                 email  \\\n",
       "0        1   Nicholas     Scott  nickxscott@gmail.com   \n",
       "\n",
       "                                                 pwd  terms  \\\n",
       "0  $2b$12$NGDOlvgqFhj6iS3CsBqJOuoEa0lcByo5UDqHAhX...   True   \n",
       "\n",
       "                     created  \n",
       "0 2024-01-28 19:28:20.864446  "
      ]
     },
     "execution_count": 6,
     "metadata": {},
     "output_type": "execute_result"
    }
   ],
   "source": [
    "try:\n",
    "    conn = psycopg2.connect(host=os.getenv('ENDPOINT'), port=os.getenv('PORT'), database=os.getenv('DBNAME'), user=os.getenv('USER'), password=os.getenv('PWD'))\n",
    "    cur = conn.cursor()\n",
    "    cur.execute(\"\"\"SELECT * FROM USERS\"\"\")\n",
    "    query_results = cur.fetchall()\n",
    "    col_nms=[x.name for x in cur.description]\n",
    "    df=pd.DataFrame(query_results)\n",
    "    df.columns=col_nms\n",
    "except Exception as e:\n",
    "    print(\"Database connection failed due to {}\".format(e))  \n",
    "#cur.close()\n",
    "#conn.close()\n",
    "\n",
    "df"
   ]
  },
  {
   "cell_type": "code",
   "execution_count": 38,
   "id": "a262a2d5-d966-44f6-ab8f-f46bf17cd85c",
   "metadata": {},
   "outputs": [
    {
     "data": {
      "text/plain": [
       "(Column(name='user_id', type_code=20),\n",
       " Column(name='first_name', type_code=1043),\n",
       " Column(name='last_name', type_code=1043),\n",
       " Column(name='email', type_code=25),\n",
       " Column(name='pwd', type_code=25),\n",
       " Column(name='terms', type_code=16),\n",
       " Column(name='created', type_code=1114))"
      ]
     },
     "execution_count": 38,
     "metadata": {},
     "output_type": "execute_result"
    }
   ],
   "source": [
    "cur.description"
   ]
  },
  {
   "cell_type": "code",
   "execution_count": 39,
   "id": "78216d8a-f88c-43c1-8752-6b1a20d50d02",
   "metadata": {},
   "outputs": [],
   "source": [
    "cur.close()\n",
    "conn.close()"
   ]
  },
  {
   "cell_type": "code",
   "execution_count": 26,
   "id": "cebf05d8-8c1b-4cf9-8746-6c1e91468274",
   "metadata": {},
   "outputs": [],
   "source": [
    "conn = psycopg2.connect(host=ENDPOINT, port=PORT, database='postgres', user='scottn_sql', password='299Adelphist..')\n",
    "cur = conn.cursor()\n",
    "cur.execute(\"TRUNCATE TABLE USERS\")\n",
    "conn.commit()"
   ]
  },
  {
   "cell_type": "code",
   "execution_count": 24,
   "id": "7765793a-46b9-45b7-9345-3cbbb578cca5",
   "metadata": {},
   "outputs": [],
   "source": [
    "cur.description"
   ]
  },
  {
   "cell_type": "code",
   "execution_count": 29,
   "id": "866c0f33-4749-4f7b-8f9b-2e944de37ab7",
   "metadata": {},
   "outputs": [],
   "source": [
    "conn = psycopg2.connect(host=ENDPOINT, port=PORT, database='postgres', user='scottn_sql', password='299Adelphist..')\n",
    "cur = conn.cursor()\n",
    "cur.execute(\"INSERT INTO USERS (USER_ID, FIRST_NAME, LAST_NAME, EMAIL, PWD, CREATED) VALUES (DEFAULT, 'New', 'Name', 'email', 'testpw', NOW());\")\n",
    "conn.commit()"
   ]
  },
  {
   "cell_type": "code",
   "execution_count": 30,
   "id": "02299bdc-3de8-400c-a364-5ac7c153cd0c",
   "metadata": {},
   "outputs": [],
   "source": [
    "cur.close()\n",
    "conn.close()"
   ]
  },
  {
   "cell_type": "code",
   "execution_count": 17,
   "id": "a27afdba-33bf-40e4-a34c-37318c9be067",
   "metadata": {},
   "outputs": [
    {
     "name": "stdout",
     "output_type": "stream",
     "text": [
      "INSERT INTO USERS (USER_ID, FIRST_NAME, LAST_NAME, EMAIL, PWD, CREATED) VALUES (DEFAULT, 'New', 'Name', 'email', 'testpw', NOW());\n"
     ]
    }
   ],
   "source": [
    "print(\"INSERT INTO USERS (USER_ID, FIRST_NAME, LAST_NAME, EMAIL, PWD, CREATED) VALUES (DEFAULT, 'New', 'Name', 'email', 'testpw', NOW());\")"
   ]
  },
  {
   "cell_type": "code",
   "execution_count": 32,
   "id": "90d5d94b-a915-4933-972e-0f67d3d040f0",
   "metadata": {},
   "outputs": [],
   "source": [
    "last = 'scott'\n",
    "first = 'nick'\n",
    "email = 'nickxscott@gmail.com'\n",
    "pwd = 'test_pwd'\n",
    "terms = True"
   ]
  },
  {
   "cell_type": "code",
   "execution_count": 35,
   "id": "c188b2fe-4690-4fac-a081-3561a650201e",
   "metadata": {},
   "outputs": [
    {
     "name": "stdout",
     "output_type": "stream",
     "text": [
      "INSERT INTO USERS (USER_ID, FIRST_NAME, LAST_NAME, EMAIL, PWD, CREATED)         VALUES (DEFAULT, 'nick', 'scott', 'nickxscott@gmail.com', 'test_pwd', true, NOW());\n"
     ]
    }
   ],
   "source": [
    "print(\"INSERT INTO USERS (USER_ID, FIRST_NAME, LAST_NAME, EMAIL, PWD, CREATED) \\\n",
    "        VALUES (DEFAULT, \" +\"'\"+  first +\"', '\" + last +\"', '\"+ email +\"', '\"+ pwd +\"', true, NOW());\")"
   ]
  },
  {
   "cell_type": "code",
   "execution_count": 11,
   "id": "1fca982e-6285-46f0-84a9-b6aa86d41f2a",
   "metadata": {},
   "outputs": [],
   "source": [
    "username='nickxscott@gmail.com'"
   ]
  },
  {
   "cell_type": "code",
   "execution_count": 14,
   "id": "c6570a4d-7bcd-4976-b1ec-d040b974b0d7",
   "metadata": {},
   "outputs": [],
   "source": [
    "def get_user(username): \n",
    "    conn = psycopg2.connect(host=os.getenv('ENDPOINT'), \n",
    "                            port=os.getenv('PORT'), \n",
    "                            database=os.getenv('DBNAME'), \n",
    "                            user=os.getenv('USER'), \n",
    "                            password=os.getenv('PWD'))\n",
    "    cur = conn.cursor()\n",
    "    cur.execute(\"SELECT * \\\n",
    "                FROM USERS \\\n",
    "                    WHERE EMAIL = \\'\" + username + \"'\")\n",
    "    query_results = cur.fetchall()\n",
    "    col_nms=[x.name for x in cur.description]\n",
    "    df=pd.DataFrame(query_results)\n",
    "    df.columns=col_nms\n",
    "    return df"
   ]
  },
  {
   "cell_type": "code",
   "execution_count": 15,
   "id": "fa6fa4fb-63bb-4d68-b10c-e2d84d79993a",
   "metadata": {},
   "outputs": [],
   "source": [
    "df, query_results=get_user(username=username)"
   ]
  },
  {
   "cell_type": "code",
   "execution_count": 19,
   "id": "30d26478-d176-4cd7-b9b0-b08bcff75ab0",
   "metadata": {},
   "outputs": [
    {
     "name": "stdout",
     "output_type": "stream",
     "text": [
      "1\n",
      "Nicholas\n",
      "Scott\n",
      "nickxscott@gmail.com\n",
      "$2b$12$NGDOlvgqFhj6iS3CsBqJOuoEa0lcByo5UDqHAhXx2I7bKGU2fOvwG\n",
      "True\n",
      "2024-01-28 19:28:20.864446\n"
     ]
    }
   ],
   "source": [
    "for i in query_results[0]:\n",
    "    print(i)"
   ]
  },
  {
   "cell_type": "code",
   "execution_count": 102,
   "id": "783e807e-562f-4af4-8968-5cc3a3f65131",
   "metadata": {},
   "outputs": [
    {
     "name": "stdout",
     "output_type": "stream",
     "text": [
      "true\n"
     ]
    }
   ],
   "source": [
    "if df_user[0]:\n",
    "    print('true')"
   ]
  },
  {
   "cell_type": "code",
   "execution_count": 41,
   "id": "eb6fba30-8c0f-4904-a178-304653b22c82",
   "metadata": {},
   "outputs": [
    {
     "name": "stdout",
     "output_type": "stream",
     "text": [
      "user exists already\n"
     ]
    }
   ],
   "source": [
    "if get_user('nickxscott@gmail.com'):\n",
    "    print('user exists already')\n",
    "else:\n",
    "    print('user doesnt exist yet')"
   ]
  },
  {
   "cell_type": "code",
   "execution_count": 54,
   "id": "b9e126a3-d51e-40a7-ba42-920f62d453c7",
   "metadata": {},
   "outputs": [
    {
     "name": "stdout",
     "output_type": "stream",
     "text": [
      "option 2\n"
     ]
    }
   ],
   "source": [
    "if False:\n",
    "    print('option 1')\n",
    "else:\n",
    "    print('option 2')"
   ]
  },
  {
   "cell_type": "code",
   "execution_count": 104,
   "id": "9b7944af-5ede-4c15-a513-e35c97b70a65",
   "metadata": {},
   "outputs": [],
   "source": [
    "username='nickxscott@gmail.com'"
   ]
  },
  {
   "cell_type": "code",
   "execution_count": 105,
   "id": "5a032ea8-ae30-437a-a23b-ddb5eab071a3",
   "metadata": {},
   "outputs": [],
   "source": [
    "conn = psycopg2.connect(host=os.getenv('ENDPOINT'), \n",
    "                            port=os.getenv('PORT'), \n",
    "                            database=os.getenv('DBNAME'), \n",
    "                            user=os.getenv('USER'), \n",
    "                            password=os.getenv('PWD'))\n",
    "cur = conn.cursor()\n",
    "cur.execute(\"SELECT * \\\n",
    "            FROM USERS \\\n",
    "            WHERE EMAIL = \\'\" + username + \"'\")\n",
    "query_results = cur.fetchall()"
   ]
  },
  {
   "cell_type": "code",
   "execution_count": 110,
   "id": "70fa6fc0-011b-4705-a965-c2d9325be305",
   "metadata": {},
   "outputs": [
    {
     "data": {
      "text/plain": [
       "1"
      ]
     },
     "execution_count": 110,
     "metadata": {},
     "output_type": "execute_result"
    }
   ],
   "source": [
    "len(query_results)"
   ]
  },
  {
   "cell_type": "code",
   "execution_count": 73,
   "id": "d11dccbe-668a-4a7c-8aaa-360a8db6a943",
   "metadata": {},
   "outputs": [
    {
     "name": "stdout",
     "output_type": "stream",
     "text": [
      "True\n"
     ]
    }
   ],
   "source": [
    "if df.email.any():\n",
    "    print(True)"
   ]
  },
  {
   "cell_type": "code",
   "execution_count": 25,
   "id": "6e52c375-a569-4921-8ab1-cce7627e41fa",
   "metadata": {},
   "outputs": [],
   "source": [
    "from flask_login import UserMixin, login_user, login_required, logout_user, current_user\n",
    "\n",
    "class User(UserMixin):\n",
    "\n",
    "    \"\"\"Custom User class.\"\"\"\n",
    "    def __init__(self, user_id, first, last, email):\n",
    "        self.id = user_id\n",
    "        self.first = first\n",
    "        self.last = last\n",
    "        self.email = email\n",
    "        \n",
    "    @staticmethod\n",
    "    def get(user_id):\n",
    "        conn = psycopg2.connect(host=os.getenv('ENDPOINT'), \n",
    "                            port=os.getenv('PORT'), \n",
    "                            database=os.getenv('DBNAME'), \n",
    "                            user=os.getenv('USER'), \n",
    "                            password=os.getenv('PWD'))\n",
    "        cur = conn.cursor()\n",
    "        cur.execute(\"SELECT * \\\n",
    "                    FROM USERS \\\n",
    "                        WHERE USER_ID = \\'\" + user_id + \"'\")\n",
    "        query_results = cur.fetchall()\n",
    "        col_nms=[x.name for x in cur.description]\n",
    "        df=pd.DataFrame(query_results)\n",
    "        df.columns=col_nms\n",
    "        return User(user_id=user_id, last=first, first=last, email=email)"
   ]
  },
  {
   "cell_type": "code",
   "execution_count": 23,
   "id": "ca74d381-b476-4eeb-afa9-0c60c23a7cfc",
   "metadata": {},
   "outputs": [],
   "source": [
    "user_id = 1\n",
    "first='nick'\n",
    "last='scott'\n",
    "email='nickxscott@gmail.com'\n",
    "\n",
    "user=User(user_id=user_id, first=first, last=last, email=email)"
   ]
  },
  {
   "cell_type": "code",
   "execution_count": 28,
   "id": "e1a49f2a-ba0f-43e1-9956-a4ef1f6e92b4",
   "metadata": {},
   "outputs": [
    {
     "data": {
      "text/plain": [
       "'nickxscott@gmail.com'"
      ]
     },
     "execution_count": 28,
     "metadata": {},
     "output_type": "execute_result"
    }
   ],
   "source": [
    "user_id='1'\n",
    "User.get(user_id).email"
   ]
  },
  {
   "cell_type": "code",
   "execution_count": 3,
   "id": "ce0ec653-f6d0-4734-9024-1e81aa2f0cc0",
   "metadata": {},
   "outputs": [
    {
     "name": "stdout",
     "output_type": "stream",
     "text": [
      "0\n",
      "1\n",
      "2\n",
      "3\n",
      "4\n",
      "5\n",
      "6\n",
      "7\n",
      "8\n",
      "9\n"
     ]
    }
   ],
   "source": [
    "for i in range(0, 10):\n",
    "    print(i)"
   ]
  },
  {
   "cell_type": "code",
   "execution_count": 4,
   "id": "9d1b90a2-db2c-4380-bb15-3afb2f51695c",
   "metadata": {},
   "outputs": [],
   "source": [
    "def createList(r1, r2):\n",
    "    return [item for item in range(r1, r2+1)]"
   ]
  },
  {
   "cell_type": "code",
   "execution_count": 5,
   "id": "2a0dc686-53e5-4230-949e-277ed44d0393",
   "metadata": {},
   "outputs": [
    {
     "data": {
      "text/plain": [
       "[0, 1, 2, 3, 4, 5, 6, 7, 8, 9, 10]"
      ]
     },
     "execution_count": 5,
     "metadata": {},
     "output_type": "execute_result"
    }
   ],
   "source": [
    "createList(0,10)"
   ]
  },
  {
   "cell_type": "code",
   "execution_count": 9,
   "id": "81924437-f4ff-49d7-aedb-b080abcf3e43",
   "metadata": {},
   "outputs": [],
   "source": [
    "def createList(r1, r2):\n",
    "    temp = [item for item in range(r1, r2+1)]\n",
    "    result = []\n",
    "    for n in temp:\n",
    "        if n < 10:\n",
    "            result.append('0'+str(n))\n",
    "        else:\n",
    "            result.append(str(n))\n",
    "    return result"
   ]
  },
  {
   "cell_type": "code",
   "execution_count": 11,
   "id": "079dac3c-0c16-4efb-a689-810186344a69",
   "metadata": {},
   "outputs": [
    {
     "data": {
      "text/plain": [
       "['00', '01', '02', '03', '04', '05', '06', '07', '08', '09', '10', '11', '12']"
      ]
     },
     "execution_count": 11,
     "metadata": {},
     "output_type": "execute_result"
    }
   ],
   "source": [
    "createList(0,12)"
   ]
  },
  {
   "cell_type": "code",
   "execution_count": 12,
   "id": "e6efc2c4-4e6b-497a-b1ae-f78c1f82c528",
   "metadata": {},
   "outputs": [],
   "source": [
    "from datetime import datetime, date, timedelta"
   ]
  },
  {
   "cell_type": "code",
   "execution_count": 14,
   "id": "0a7e3389-0995-458a-9ac4-1a6a6e1579dd",
   "metadata": {},
   "outputs": [
    {
     "ename": "TypeError",
     "evalue": "an integer is required (got type str)",
     "output_type": "error",
     "traceback": [
      "\u001b[1;31m---------------------------------------------------------------------------\u001b[0m",
      "\u001b[1;31mTypeError\u001b[0m                                 Traceback (most recent call last)",
      "Cell \u001b[1;32mIn[14], line 1\u001b[0m\n\u001b[1;32m----> 1\u001b[0m \u001b[43mdate\u001b[49m\u001b[43m(\u001b[49m\u001b[38;5;124;43m'\u001b[39;49m\u001b[38;5;124;43m2024-02-28\u001b[39;49m\u001b[38;5;124;43m'\u001b[39;49m\u001b[43m)\u001b[49m\n",
      "\u001b[1;31mTypeError\u001b[0m: an integer is required (got type str)"
     ]
    }
   ],
   "source": [
    "date('2024-02-28')"
   ]
  },
  {
   "cell_type": "code",
   "execution_count": null,
   "id": "0c47491f-385b-42c9-bc1c-d1fd8ab09e9e",
   "metadata": {},
   "outputs": [],
   "source": []
  }
 ],
 "metadata": {
  "kernelspec": {
   "display_name": "Python 3 (ipykernel)",
   "language": "python",
   "name": "python3"
  },
  "language_info": {
   "codemirror_mode": {
    "name": "ipython",
    "version": 3
   },
   "file_extension": ".py",
   "mimetype": "text/x-python",
   "name": "python",
   "nbconvert_exporter": "python",
   "pygments_lexer": "ipython3",
   "version": "3.9.13"
  }
 },
 "nbformat": 4,
 "nbformat_minor": 5
}
