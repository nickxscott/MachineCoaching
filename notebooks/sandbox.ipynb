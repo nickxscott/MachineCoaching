{
 "cells": [
  {
   "cell_type": "code",
   "execution_count": 1,
   "id": "5c72c328-3486-4edb-9c40-6cd384df474a",
   "metadata": {},
   "outputs": [
    {
     "name": "stderr",
     "output_type": "stream",
     "text": [
      "C:\\Users\\scottn\\Anaconda3\\envs\\SJU_DS\\lib\\site-packages\\sklearn\\base.py:329: UserWarning: Trying to unpickle estimator LinearRegression from version 1.0.2 when using version 1.1.2. This might lead to breaking code or invalid results. Use at your own risk. For more info please refer to:\n",
      "https://scikit-learn.org/stable/model_persistence.html#security-maintainability-limitations\n",
      "  warnings.warn(\n"
     ]
    }
   ],
   "source": [
    "import sys\n",
    "sys.path.append('../backend/')\n",
    "from functions import *\n",
    "\n",
    "import seaborn as sns\n",
    "from IPython.core.pylabtools import figsize\n",
    "import matplotlib.pyplot as plt\n",
    "#import plotly.express as px"
   ]
  },
  {
   "cell_type": "code",
   "execution_count": 2,
   "id": "bd3aa879-d9d4-4a48-a00e-65e3cdf88901",
   "metadata": {},
   "outputs": [
    {
     "name": "stdout",
     "output_type": "stream",
     "text": [
      "raw level:  8.170415780829998\n",
      "dist level:  [8.170415780829998]\n",
      "z2:  8'16''\n",
      "mp:  6'49''\n",
      "hmp:  6'15''\n",
      "10k:  5'59''\n",
      "5k:  5'52''\n"
     ]
    }
   ],
   "source": [
    "result=get_calendar(race_year=2024, race_month=3, race_day=17, weeks=12, pace_min=6, pace_sec=15, race_dist=13.1)\n",
    "\n",
    "print('raw level: ', result[1])\n",
    "print('dist level: ', result[2])\n",
    "print('z2: ', pace_to_str(result[10]))\n",
    "print('mp: ', pace_to_str(result[9]))\n",
    "print('hmp: ', pace_to_str(result[8]))\n",
    "print('10k: ', pace_to_str(result[7]))\n",
    "print('5k: ', pace_to_str(result[6]))\n",
    "result[0][['date', 'day_desc', 'week', 'phase', 'distance', 'run_type', 'run_name', 'pace', 'run_desc']].to_csv('TwoRivers2.csv', index=False)"
   ]
  },
  {
   "cell_type": "code",
   "execution_count": 13,
   "id": "12accd2e-f14d-4df4-b181-d7218657b4af",
   "metadata": {},
   "outputs": [],
   "source": [
    "result[0].groupby(['week'])['distance'].sum().reset_index().to_csv('DallasNYCHalf_Volume.csv', index=False)"
   ]
  },
  {
   "cell_type": "code",
   "execution_count": 14,
   "id": "0d244cfb-4e69-47bf-93a0-d58adaeb73dc",
   "metadata": {},
   "outputs": [
    {
     "data": {
      "image/png": "[encoded data removed]",
      "text/plain": [
       "<Figure size 1000x800 with 1 Axes>"
      ]
     },
     "metadata": {},
     "output_type": "display_data"
    }
   ],
   "source": [
    "df_vol = result[0].groupby(['week'])['distance'].sum().reset_index()\n",
    "\n",
    "fig, ax = plt.subplots(figsize=(10, 8))\n",
    "\n",
    "sns.barplot(data=df_vol, x='week', y='distance', edgecolor='grey', \n",
    "            palette=plt.cm.ScalarMappable(cmap='Blues').to_rgba(df_vol['distance']), ax=ax)\n",
    "\n",
    "ax.bar_label(ax.containers[0]);\n",
    "\n",
    "plt.savefig('DallasNYCHalf_Volume.jpg')"
   ]
  },
  {
   "cell_type": "markdown",
   "id": "a2abe1fb-734e-436e-b151-3dfc8b1dd11d",
   "metadata": {},
   "source": [
    "# DB Connection"
   ]
  },
  {
   "cell_type": "code",
   "execution_count": 5,
   "id": "81a67b25-2d2a-40e7-b6d3-3ddefdf4dc5e",
   "metadata": {},
   "outputs": [],
   "source": [
    "import psycopg2"
   ]
  },
  {
   "cell_type": "code",
   "execution_count": null,
   "id": "dfe5f399-fccd-4702-8d3c-40bae5bdcefb",
   "metadata": {},
   "outputs": [],
   "source": [
    "def get_data(env_path, query):\n",
    "    load_dotenv(env_path)\n",
    "    #read in sql query\n",
    "    f=open(query)\n",
    "    query_main=f.readlines()\n",
    "    f.close()\n",
    "    ### Setup snowflake connector\n",
    "    ctx = snowflake.connector.connect(\n",
    "        user=os.getenv('uid_snow'), \n",
    "        password=os.getenv('pwd_snow'), \n",
    "        account=os.getenv('account_snow'))\n",
    "    cs = ctx.cursor()\n",
    "    cs.execute('USE DATABASE BANNER_DB')\n",
    "    cs.execute('USE SCHEMA BANNER_LND')\n",
    "    cs.execute(\"\".join(query_main))\n",
    "    ### Turn into pandas data frame\n",
    "    D = cs.fetchall()\n",
    "    col_nms=[x.name for x in cs.description]\n",
    "    df=pd.DataFrame(D)\n",
    "    df.columns=col_nms\n",
    "    ### Close connections\n",
    "    cs.close()\n",
    "    ctx.close()    \n",
    "    return df"
   ]
  },
  {
   "cell_type": "code",
   "execution_count": 36,
   "id": "b457f782-0e06-41e1-bfcd-838dc8e2278e",
   "metadata": {},
   "outputs": [],
   "source": [
    "ENDPOINT=\"mc-db.curuzcat1uwx.us-east-2.rds.amazonaws.com\"\n",
    "PORT=\"5432\"\n",
    "USER=\"mydbuser\"\n",
    "REGION=\"us-east-2c\"\n",
    "DBNAME=\"postgres\""
   ]
  },
  {
   "cell_type": "code",
   "execution_count": 37,
   "id": "5abe4374-029b-49d6-9527-6485fba0a2a0",
   "metadata": {},
   "outputs": [
    {
     "name": "stdout",
     "output_type": "stream",
     "text": [
      "Database connection failed due to Length mismatch: Expected axis has 0 elements, new values have 7 elements\n"
     ]
    },
    {
     "data": {
      "text/html": [
       "<div>\n",
       "<style scoped>\n",
       "    .dataframe tbody tr th:only-of-type {\n",
       "        vertical-align: middle;\n",
       "    }\n",
       "\n",
       "    .dataframe tbody tr th {\n",
       "        vertical-align: top;\n",
       "    }\n",
       "\n",
       "    .dataframe thead th {\n",
       "        text-align: right;\n",
       "    }\n",
       "</style>\n",
       "<table border=\"1\" class=\"dataframe\">\n",
       "  <thead>\n",
       "    <tr style=\"text-align: right;\">\n",
       "      <th></th>\n",
       "    </tr>\n",
       "  </thead>\n",
       "  <tbody>\n",
       "  </tbody>\n",
       "</table>\n",
       "</div>"
      ],
      "text/plain": [
       "Empty DataFrame\n",
       "Columns: []\n",
       "Index: []"
      ]
     },
     "execution_count": 37,
     "metadata": {},
     "output_type": "execute_result"
    }
   ],
   "source": [
    "try:\n",
    "    conn = psycopg2.connect(host=ENDPOINT, port=PORT, database='postgres', user='scottn_sql', password='299Adelphist..')\n",
    "    cur = conn.cursor()\n",
    "    cur.execute(\"\"\"SELECT * FROM USERS\"\"\")\n",
    "    query_results = cur.fetchall()\n",
    "    col_nms=[x.name for x in cur.description]\n",
    "    df=pd.DataFrame(query_results)\n",
    "    df.columns=col_nms\n",
    "except Exception as e:\n",
    "    print(\"Database connection failed due to {}\".format(e))  \n",
    "#cur.close()\n",
    "#conn.close()\n",
    "\n",
    "df"
   ]
  },
  {
   "cell_type": "code",
   "execution_count": 38,
   "id": "a262a2d5-d966-44f6-ab8f-f46bf17cd85c",
   "metadata": {},
   "outputs": [
    {
     "data": {
      "text/plain": [
       "(Column(name='user_id', type_code=20),\n",
       " Column(name='first_name', type_code=1043),\n",
       " Column(name='last_name', type_code=1043),\n",
       " Column(name='email', type_code=25),\n",
       " Column(name='pwd', type_code=25),\n",
       " Column(name='terms', type_code=16),\n",
       " Column(name='created', type_code=1114))"
      ]
     },
     "execution_count": 38,
     "metadata": {},
     "output_type": "execute_result"
    }
   ],
   "source": [
    "cur.description"
   ]
  },
  {
   "cell_type": "code",
   "execution_count": 39,
   "id": "78216d8a-f88c-43c1-8752-6b1a20d50d02",
   "metadata": {},
   "outputs": [],
   "source": [
    "cur.close()\n",
    "conn.close()"
   ]
  },
  {
   "cell_type": "code",
   "execution_count": 26,
   "id": "cebf05d8-8c1b-4cf9-8746-6c1e91468274",
   "metadata": {},
   "outputs": [],
   "source": [
    "conn = psycopg2.connect(host=ENDPOINT, port=PORT, database='postgres', user='scottn_sql', password='299Adelphist..')\n",
    "cur = conn.cursor()\n",
    "cur.execute(\"TRUNCATE TABLE USERS\")\n",
    "conn.commit()"
   ]
  },
  {
   "cell_type": "code",
   "execution_count": 24,
   "id": "7765793a-46b9-45b7-9345-3cbbb578cca5",
   "metadata": {},
   "outputs": [],
   "source": [
    "cur.description"
   ]
  },
  {
   "cell_type": "code",
   "execution_count": 29,
   "id": "866c0f33-4749-4f7b-8f9b-2e944de37ab7",
   "metadata": {},
   "outputs": [],
   "source": [
    "conn = psycopg2.connect(host=ENDPOINT, port=PORT, database='postgres', user='scottn_sql', password='299Adelphist..')\n",
    "cur = conn.cursor()\n",
    "cur.execute(\"INSERT INTO USERS (USER_ID, FIRST_NAME, LAST_NAME, EMAIL, PWD, CREATED) VALUES (DEFAULT, 'New', 'Name', 'email', 'testpw', NOW());\")\n",
    "conn.commit()"
   ]
  },
  {
   "cell_type": "code",
   "execution_count": 30,
   "id": "02299bdc-3de8-400c-a364-5ac7c153cd0c",
   "metadata": {},
   "outputs": [],
   "source": [
    "cur.close()\n",
    "conn.close()"
   ]
  },
  {
   "cell_type": "code",
   "execution_count": 17,
   "id": "a27afdba-33bf-40e4-a34c-37318c9be067",
   "metadata": {},
   "outputs": [
    {
     "name": "stdout",
     "output_type": "stream",
     "text": [
      "INSERT INTO USERS (USER_ID, FIRST_NAME, LAST_NAME, EMAIL, PWD, CREATED) VALUES (DEFAULT, 'New', 'Name', 'email', 'testpw', NOW());\n"
     ]
    }
   ],
   "source": [
    "print(\"INSERT INTO USERS (USER_ID, FIRST_NAME, LAST_NAME, EMAIL, PWD, CREATED) VALUES (DEFAULT, 'New', 'Name', 'email', 'testpw', NOW());\")"
   ]
  },
  {
   "cell_type": "code",
   "execution_count": 32,
   "id": "90d5d94b-a915-4933-972e-0f67d3d040f0",
   "metadata": {},
   "outputs": [],
   "source": [
    "last = 'scott'\n",
    "first = 'nick'\n",
    "email = 'nickxscott@gmail.com'\n",
    "pwd = 'test_pwd'\n",
    "terms = True"
   ]
  },
  {
   "cell_type": "code",
   "execution_count": 35,
   "id": "c188b2fe-4690-4fac-a081-3561a650201e",
   "metadata": {},
   "outputs": [
    {
     "name": "stdout",
     "output_type": "stream",
     "text": [
      "INSERT INTO USERS (USER_ID, FIRST_NAME, LAST_NAME, EMAIL, PWD, CREATED)         VALUES (DEFAULT, 'nick', 'scott', 'nickxscott@gmail.com', 'test_pwd', true, NOW());\n"
     ]
    }
   ],
   "source": [
    "print(\"INSERT INTO USERS (USER_ID, FIRST_NAME, LAST_NAME, EMAIL, PWD, CREATED) \\\n",
    "        VALUES (DEFAULT, \" +\"'\"+  first +\"', '\" + last +\"', '\"+ email +\"', '\"+ pwd +\"', true, NOW());\")"
   ]
  },
  {
   "cell_type": "code",
   "execution_count": 40,
   "id": "2a4ca901-96fe-4e06-9835-001b8acdf20d",
   "metadata": {},
   "outputs": [
    {
     "data": {
      "text/plain": [
       "True"
      ]
     },
     "execution_count": 40,
     "metadata": {},
     "output_type": "execute_result"
    }
   ],
   "source": [
    "import os\n",
    "from dotenv import load_dotenv\n",
    "\n",
    "load_dotenv('../pg.env')"
   ]
  },
  {
   "cell_type": "code",
   "execution_count": null,
   "id": "c6570a4d-7bcd-4976-b1ec-d040b974b0d7",
   "metadata": {},
   "outputs": [],
   "source": []
  }
 ],
 "metadata": {
  "kernelspec": {
   "display_name": "Python 3 (ipykernel)",
   "language": "python",
   "name": "python3"
  },
  "language_info": {
   "codemirror_mode": {
    "name": "ipython",
    "version": 3
   },
   "file_extension": ".py",
   "mimetype": "text/x-python",
   "name": "python",
   "nbconvert_exporter": "python",
   "pygments_lexer": "ipython3",
   "version": "3.9.13"
  }
 },
 "nbformat": 4,
 "nbformat_minor": 5
}
