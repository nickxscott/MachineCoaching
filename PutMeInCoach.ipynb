{
 "cells": [
  {
   "cell_type": "code",
   "execution_count": 1,
   "id": "bf98e02f-db8b-4155-ac3a-8f13ab631482",
   "metadata": {},
   "outputs": [],
   "source": [
    "import pandas as pd\n",
    "import numpy as np\n",
    "import datetime\n",
    "from datetime import date\n",
    "\n",
    "from functions import mins_to_meters, meters_to_mins\n",
    "\n",
    "from sklearn.linear_model import LinearRegression"
   ]
  },
  {
   "cell_type": "markdown",
   "id": "cd3c65ea-7d35-41cc-a08a-5fd5a2a80358",
   "metadata": {},
   "source": [
    "# athlete level model"
   ]
  },
  {
   "cell_type": "code",
   "execution_count": 2,
   "id": "f9f418a4-c1d7-44ce-b1a6-c92a9416bff5",
   "metadata": {},
   "outputs": [
    {
     "name": "stdout",
     "output_type": "stream",
     "text": [
      "score:  0.9932200383740991\n",
      "coefficients:  [3.98780213 0.10914506]\n",
      "intercept:  -10.373329770791926\n"
     ]
    }
   ],
   "source": [
    "#create model for calculating athlete level\n",
    "data = {'speed': [4.291573333333333, 5.109015873015872, 2.2351944444444443, 2.682233333333333], \n",
    "        'distance': [26.2, 3.1, 26.2, 3.1],'level': [10, 10, 1, 1]}\n",
    "df_pace_lvl = pd.DataFrame(data)\n",
    "\n",
    "#calculate slope and intercept -linear\n",
    "X = df_pace_lvl[['speed', 'distance']]\n",
    "y = df_pace_lvl['level']\n",
    "level = LinearRegression().fit(X, y)\n",
    "print('score: ', level.score(X, y))\n",
    "print('coefficients: ', level.coef_)\n",
    "print('intercept: ', level.intercept_)"
   ]
  },
  {
   "cell_type": "markdown",
   "id": "b52c77d1-6299-415d-bd6d-c7e8ad0b1b2f",
   "metadata": {},
   "source": [
    "# distance factor model"
   ]
  },
  {
   "cell_type": "code",
   "execution_count": 3,
   "id": "7f3269d8-4e97-4fe9-a6ce-08bb14684e90",
   "metadata": {},
   "outputs": [],
   "source": [
    "#modeling distance factor from athl_level (bound to 1-10)\n",
    "data = {'level': [10, 1], \n",
    "        'dist_factor': [1, 0.5]}\n",
    "df_distance_lvl = pd.DataFrame(data)\n",
    "dist_model = np.poly1d(np.polyfit(df_distance_lvl['level'], df_distance_lvl['dist_factor'], 1))"
   ]
  },
  {
   "cell_type": "markdown",
   "id": "9f3d971e-fa45-428b-81fd-7a5b41a99159",
   "metadata": {},
   "source": [
    "# longest long run model (marathon only)"
   ]
  },
  {
   "cell_type": "code",
   "execution_count": 4,
   "id": "33f78469-9488-44e4-967d-23807bed9f40",
   "metadata": {},
   "outputs": [],
   "source": [
    "#modeling distance factor from athl_level (bound to 1-10)\n",
    "data = {'level': [10, 1], \n",
    "        'max_lr': [23, 18]}\n",
    "df_max_lr = pd.DataFrame(data)\n",
    "lr_model = np.poly1d(np.polyfit(df_max_lr['level'], df_max_lr['max_lr'], 1))"
   ]
  },
  {
   "cell_type": "code",
   "execution_count": 57,
   "id": "5c76cf45-895b-4034-a452-992e837b4268",
   "metadata": {},
   "outputs": [
    {
     "data": {
      "text/plain": [
       "21.561404946564476"
      ]
     },
     "execution_count": 57,
     "metadata": {},
     "output_type": "execute_result"
    }
   ],
   "source": [
    "lr_model(7.410528903816044)"
   ]
  },
  {
   "cell_type": "markdown",
   "id": "75a56030-6fb8-4108-809b-7755690f972c",
   "metadata": {},
   "source": [
    "# workout files"
   ]
  },
  {
   "cell_type": "code",
   "execution_count": 6,
   "id": "f88470f4-fa4e-49d8-802c-844b5ab9d1c1",
   "metadata": {},
   "outputs": [],
   "source": [
    "df_5k = pd.read_csv('workouts/5k.csv')\n",
    "df_10k = pd.read_csv('workouts/10k.csv')\n",
    "df_half = pd.read_csv('workouts/half_mar.csv')\n",
    "df_full = pd.read_csv('workouts/full_mar.csv')"
   ]
  },
  {
   "cell_type": "markdown",
   "id": "117ab41b-e3a0-4142-a7f0-ce01cc613ad2",
   "metadata": {},
   "source": [
    "# main function for base calendar "
   ]
  },
  {
   "cell_type": "code",
   "execution_count": 49,
   "id": "4088767e-213d-4e19-bfbf-0782ea70bcc9",
   "metadata": {},
   "outputs": [],
   "source": [
    "#function to date race date, number of weeks to train, and generate \n",
    "def get_calendar(race_year, race_month, race_day, weeks, pace_min, pace_sec, distance):\n",
    "    \n",
    "    #calcluate meters per second (speed) from goal pace\n",
    "    speed = mins_to_meters(m=pace_min, s=pace_sec)\n",
    "    \n",
    "    race_date = date(race_year, race_month, race_day+1)\n",
    "    \n",
    "    cal = weeks*7\n",
    "    \n",
    "    date_list = [race_date - datetime.timedelta(days=x) for x in range(1,(cal+1))]\n",
    "    \n",
    "    date_list.reverse()\n",
    "    \n",
    "    days = []\n",
    "\n",
    "    for x in date_list:\n",
    "        days.append(x.weekday())\n",
    "        \n",
    "    data = {'date': date_list, 'day_code': days}\n",
    "    \n",
    "    df_training_cal = pd.DataFrame(data)\n",
    "    \n",
    "    #create validation table for weekday codes/desc to join to training calendar\n",
    "    weekdays = {'day_code': range(0,7), 'day_desc': ['Mon', 'Tues', 'Wed', 'Thurs', 'Fri', 'Sat', 'Sun']}\n",
    "    df_weekdays = pd.DataFrame(weekdays)\n",
    "    df_weekdays\n",
    "    \n",
    "    df_training_cal = pd.merge(df_training_cal, df_weekdays, how='left', on='day_code')\n",
    "    \n",
    "    #find first monday and crop calendar down to start on first monday\n",
    "    first_mon = df_training_cal[df_training_cal.day_code == 0].index[0]\n",
    "    df_training_cal = df_training_cal.iloc[first_mon:]\n",
    "    \n",
    "    #create column for week count\n",
    "    week = []\n",
    "    count = 0\n",
    "    for index, row in df_training_cal.iterrows():\n",
    "        if row.day_code == 0:\n",
    "            count += 1\n",
    "            week.append(count)\n",
    "        else:\n",
    "            week.append(count)\n",
    "    df_training_cal['week']=week\n",
    "    \n",
    "    #create column for training phase\n",
    "    #2 week taper for blocks under 14 weeks, 3 week taper for blocks >= 14 weeks\n",
    "    block = 0\n",
    "    if weeks < 14:\n",
    "        block += (df_training_cal.week.max() - 2)\n",
    "    if weeks >= 14:\n",
    "        block += (df_training_cal.week.max() - 3)\n",
    "    base = np.ceil(block*0.4)\n",
    "    peak = np.floor(block*0.6)\n",
    "\n",
    "    phase= []\n",
    "\n",
    "    for index, row in df_training_cal.iterrows():\n",
    "        if row.week <= base:\n",
    "            phase.append('base')\n",
    "        elif row.week-base <= peak:\n",
    "            phase.append('peak')\n",
    "        else:\n",
    "            phase.append('taper')\n",
    "    df_training_cal['phase']=phase\n",
    "    \n",
    "    #calculate level and assign to level raw (used for pace calc)\n",
    "    #if level raw is outside range(1,10), bound to nearest level and assign to dist_level (used for max distance calc)\n",
    "    user_X = pd.DataFrame({'speed': [speed], 'distance': [distance]})\n",
    "    level_raw = level.predict(user_X)[0]\n",
    "    dist_level = []\n",
    "    \n",
    "    if level_raw < 1:\n",
    "        dist_level.append(1)\n",
    "    elif level_raw > 10:\n",
    "        dist_level.append(10)\n",
    "    else:\n",
    "        dist_level.append(level_raw)\n",
    "        \n",
    "    #calculate paces (to be used for workouts)\n",
    "    b1 = level.coef_[0]\n",
    "    b2 = level.coef_[1]\n",
    "    b0 = level.intercept_\n",
    "\n",
    "    five_k = ((level_raw - b0) - (3.1*b2)) / b1\n",
    "    ten_k = ((level_raw - b0) - (10.2*b2)) / b1\n",
    "    hmp = ((level_raw - b0) - (13.1*b2)) / b1\n",
    "    mp = ((level_raw - b0) - (26.2*b2)) / b1\n",
    "    \n",
    "    #weekly mileage peak\n",
    "    mileage_max = 0\n",
    "    if distance == 3.1:\n",
    "        mileage_max += 45\n",
    "    elif distance == 6.2:\n",
    "        mileage_max += 50\n",
    "    elif distance == 13.1:\n",
    "        mileage_max += 60\n",
    "    elif distance == 26.2:\n",
    "        mileage_max += 75\n",
    "        \n",
    "    dist_factor = dist_model(dist_level[0]) \n",
    "    \n",
    "    user_max = mileage_max*dist_factor\n",
    "    #user_max = mileage_max-(level_final[0]*3)\n",
    "    \n",
    "    #weekly mileage\n",
    "    base = len(df_training_cal.loc[df_training_cal.phase=='base'].week.unique())\n",
    "    peak = len(df_training_cal.loc[df_training_cal.phase=='peak'].week.unique())\n",
    "    taper = len(df_training_cal.loc[df_training_cal.phase=='taper'].week.unique())\n",
    "    \n",
    "    week_1 = round(user_max/3, 1)\n",
    "    build = user_max-week_1\n",
    "    weekly_miles = []\n",
    "    \n",
    "    week_num = []\n",
    "    \n",
    "    for index, row in df_training_cal.iterrows():\n",
    "        if row.week not in week_num:\n",
    "            week_num.append(row.week)\n",
    "            \n",
    "    weekly_miles = [week_1]\n",
    "    miles = 0\n",
    "    \n",
    "    for i in range(1,base):\n",
    "        miles += build/(base-1)\n",
    "        weekly_miles.append(round(week_1+miles, 1))\n",
    "    \n",
    "    for i in range(1, peak+1):\n",
    "        weekly_miles.append(round(user_max, 1))\n",
    "    \n",
    "    if taper == 2:\n",
    "        weekly_miles.append(user_max*0.7)\n",
    "        weekly_miles.append(user_max*0.4)\n",
    "        \n",
    "    if taper == 3:\n",
    "        weekly_miles.append(round(user_max*0.85, 1))\n",
    "        weekly_miles.append(round(user_max*0.65, 1))\n",
    "        weekly_miles.append(round(user_max*0.3, 1))\n",
    "    \n",
    "    data = {'week': week_num, 'mileage': weekly_miles}\n",
    "    df_mileage = pd.DataFrame(data)\n",
    "    \n",
    "    #add weekly mileage into df_training_cal\n",
    "    weekly_mileage = []\n",
    "    for index, row in df_training_cal.iterrows():\n",
    "        weekly_mileage.append(df_mileage.loc[df_mileage.week == row.week].mileage.values[0])\n",
    "    \n",
    "    df_training_cal[\"weekly_mileage\"] = weekly_mileage\n",
    "    \n",
    "    #add down week for training blocks >= 14 weeks\n",
    "    if weeks >= 14:\n",
    "        down_phase = []\n",
    "        down_mileage = []\n",
    "        \n",
    "        for index, row in df_training_cal.iterrows():\n",
    "            if row.week == (base + (peak-2)):\n",
    "                down_phase.append('down')\n",
    "                down_mileage.append(round(user_max*0.5, 1))\n",
    "            else:\n",
    "                down_phase.append(row.phase)\n",
    "                down_mileage.append(row.weekly_mileage)\n",
    "                \n",
    "        df_training_cal['phase']=down_phase\n",
    "        df_training_cal['weekly_mileage']=down_mileage\n",
    "        \n",
    "    ###LONG RUNS###\n",
    "    \n",
    "    #establish max long run distance\n",
    "    max_lr = 0\n",
    "    if (distance == 3.1) and (user_max/3 <= 10):\n",
    "        max_lr += round(user_max/3, 1)\n",
    "    elif (distance == 3.1) and (user_max/3 > 10):\n",
    "        max_lr += 10\n",
    "    elif (distance == 6.2) and (user_max/3 <= 12):\n",
    "        max_lr += round(user_max/3, 1)\n",
    "    elif (distance == 6.2) and (user_max/3 > 12):\n",
    "        max_lr += 12\n",
    "    elif (distance == 13.1) and (user_max/3 <= 18):\n",
    "        max_lr += round(user_max/3, 1)\n",
    "    elif (distance == 13.1) and (user_max/3 > 18):\n",
    "        max_lr += 18\n",
    "    #for full-marathon, use linear model\n",
    "    elif (distance == 26.2):\n",
    "        max_lr += lr_model(dist_level)[0]\n",
    "    \n",
    "    #max_lr = max_lr[0]\n",
    "    lr_85pct = round(max_lr*0.85, 1)\n",
    "    lr_90pct = round(max_lr*0.9, 1)\n",
    "    lr_95pct = round(max_lr*0.95,1)\n",
    "    base_lr = []\n",
    "    lr1 = round(df_training_cal.loc[df_training_cal.week==1].weekly_mileage.unique()[0]/3, 1) #1/3 of first week total mileage,1)\n",
    "    peak_lr = []\n",
    "    down_lr = []\n",
    "    postdown_lr = []\n",
    "    taper_lr = []\n",
    "\n",
    "    #base long runs\n",
    "    base_step = (max_lr - lr1) / (base-1)\n",
    "    base_lr_holder = lr1\n",
    "    base_lr.append(lr1)\n",
    "\n",
    "    for i in range(1,base):\n",
    "        base_lr_holder+=base_step\n",
    "        base_lr.append(round(base_lr_holder, 1))\n",
    "    \n",
    "    #if down week exists\n",
    "    if weeks >= 14:\n",
    "        #peak to down week long runs\n",
    "        peak_lr.append(lr_85pct)\n",
    "        down_week = df_training_cal.loc[df_training_cal.phase == 'down'].week.unique()[0]\n",
    "        peak_weeks = len(df_training_cal.loc[(df_training_cal.phase == 'peak') & (df_training_cal.week < down_week)].week.unique())\n",
    "        lr_diff = max_lr - lr_85pct\n",
    "        step = lr_diff/(peak_weeks-1) \n",
    "\n",
    "        lr_holder = lr_85pct\n",
    "        for i in range(1,peak_weeks):\n",
    "            lr_holder+=step\n",
    "            peak_lr.append(round(lr_holder, 1))\n",
    "    \n",
    "        #down week long run\n",
    "        for index, row in df_training_cal.iterrows():\n",
    "            if (row.day_code == 5) and (row.phase == 'down') and (row.weekly_mileage/3 < max_lr):\n",
    "                down_lr.append(round(row.weekly_mileage/3, 1))\n",
    "\n",
    "        #post down week peak long runs\n",
    "        postdown_peak = len(df_training_cal.loc[(df_training_cal.phase == 'peak') & (df_training_cal.week > down_week)].week.unique())\n",
    "        for i in range(1,postdown_peak+1):\n",
    "            postdown_lr.append(lr_95pct)\n",
    "    \n",
    "    #if no down week\n",
    "    else:\n",
    "        peak_lr.append(lr_85pct)\n",
    "        peak_weeks = len(df_training_cal.loc[(df_training_cal.day_code ==5) & (df_training_cal.phase == 'peak')])\n",
    "        lr_diff = max_lr - lr_85pct\n",
    "        step = lr_diff/(peak_weeks-1) \n",
    "\n",
    "        lr_holder = lr_85pct\n",
    "        for i in range(1,peak_weeks):\n",
    "            lr_holder+=step\n",
    "            peak_lr.append(round(lr_holder, 1))\n",
    "            \n",
    "            \n",
    "    #taper long runs\n",
    "    for index, row in df_training_cal.iterrows():\n",
    "        if (row.day_code == 5) and (row.phase == 'taper') and (row.weekly_mileage/3 < max_lr):\n",
    "            taper_lr.append(round(row.weekly_mileage/3, 1))\n",
    "        elif (row.day_code == 5) and (row.phase == 'taper') and (row.weekly_mileage/3 >= max_lr):\n",
    "            taper_lr.append(lr_85pct)\n",
    "            \n",
    "    long_runs = base_lr + peak_lr + down_lr + postdown_lr + taper_lr\n",
    "    \n",
    "    return df_training_cal, level_raw, dist_level, user_max, df_mileage, speed, five_k, ten_k, hmp, mp, long_runs, max_lr, peak_lr, lr_85pct"
   ]
  },
  {
   "cell_type": "code",
   "execution_count": 61,
   "id": "316469b5-3b2f-40a3-8471-b0cd76f0508d",
   "metadata": {},
   "outputs": [
    {
     "name": "stdout",
     "output_type": "stream",
     "text": [
      "raw level:  7.410528903816044\n",
      "mp:  (7, 10.020000000000001)\n",
      "hmp:  (6, 32.400000000000006)\n",
      "10k:  (6, 24.959999999999997)\n",
      "5k:  (6, 7.86)\n"
     ]
    }
   ],
   "source": [
    "result = get_calendar(race_year=2023, race_month=11, race_day=19, weeks=16, pace_min=7, pace_sec=10, distance=26.2)\n",
    "print('raw level: ', result[1])\n",
    "print('mp: ', meters_to_mins(result[9]))\n",
    "print('hmp: ', meters_to_mins(result[8]))\n",
    "print('10k: ', meters_to_mins(result[7]))\n",
    "print('5k: ', meters_to_mins(result[6]))"
   ]
  },
  {
   "cell_type": "code",
   "execution_count": 62,
   "id": "31b45a20-daa2-4a33-820c-27bd02ad09de",
   "metadata": {},
   "outputs": [
    {
     "name": "stdout",
     "output_type": "stream",
     "text": [
      "all_lrs:  [7.1, 10.0, 12.9, 15.8, 18.7, 21.6, 18.3, 19.4, 20.5, 21.6, 10.7, 20.5, 20.5, 18.2, 13.9, 6.4]\n",
      "max_lr:  21.561404946564476\n",
      "peak_lrs:  [18.3, 19.4, 20.5, 21.6]\n",
      "85pct_lr:  18.3\n"
     ]
    }
   ],
   "source": [
    "print('all_lrs: ', result[10])\n",
    "print('max_lr: ', result[11]) \n",
    "print('peak_lrs: ', result[12])\n",
    "print('85pct_lr: ', result[13])"
   ]
  },
  {
   "cell_type": "code",
   "execution_count": 63,
   "id": "fcca17df-56e1-4b49-abb7-a4a20f1f8b2c",
   "metadata": {},
   "outputs": [
    {
     "data": {
      "text/html": [
       "<div>\n",
       "<style scoped>\n",
       "    .dataframe tbody tr th:only-of-type {\n",
       "        vertical-align: middle;\n",
       "    }\n",
       "\n",
       "    .dataframe tbody tr th {\n",
       "        vertical-align: top;\n",
       "    }\n",
       "\n",
       "    .dataframe thead th {\n",
       "        text-align: right;\n",
       "    }\n",
       "</style>\n",
       "<table border=\"1\" class=\"dataframe\">\n",
       "  <thead>\n",
       "    <tr style=\"text-align: right;\">\n",
       "      <th></th>\n",
       "      <th>week</th>\n",
       "      <th>phase</th>\n",
       "      <th>weekly_mileage</th>\n",
       "    </tr>\n",
       "  </thead>\n",
       "  <tbody>\n",
       "    <tr>\n",
       "      <th>0</th>\n",
       "      <td>1</td>\n",
       "      <td>base</td>\n",
       "      <td>21.4</td>\n",
       "    </tr>\n",
       "    <tr>\n",
       "      <th>7</th>\n",
       "      <td>2</td>\n",
       "      <td>base</td>\n",
       "      <td>30.0</td>\n",
       "    </tr>\n",
       "    <tr>\n",
       "      <th>14</th>\n",
       "      <td>3</td>\n",
       "      <td>base</td>\n",
       "      <td>38.5</td>\n",
       "    </tr>\n",
       "    <tr>\n",
       "      <th>21</th>\n",
       "      <td>4</td>\n",
       "      <td>base</td>\n",
       "      <td>47.1</td>\n",
       "    </tr>\n",
       "    <tr>\n",
       "      <th>28</th>\n",
       "      <td>5</td>\n",
       "      <td>base</td>\n",
       "      <td>55.6</td>\n",
       "    </tr>\n",
       "    <tr>\n",
       "      <th>35</th>\n",
       "      <td>6</td>\n",
       "      <td>base</td>\n",
       "      <td>64.2</td>\n",
       "    </tr>\n",
       "    <tr>\n",
       "      <th>42</th>\n",
       "      <td>7</td>\n",
       "      <td>peak</td>\n",
       "      <td>64.2</td>\n",
       "    </tr>\n",
       "    <tr>\n",
       "      <th>49</th>\n",
       "      <td>8</td>\n",
       "      <td>peak</td>\n",
       "      <td>64.2</td>\n",
       "    </tr>\n",
       "    <tr>\n",
       "      <th>56</th>\n",
       "      <td>9</td>\n",
       "      <td>peak</td>\n",
       "      <td>64.2</td>\n",
       "    </tr>\n",
       "    <tr>\n",
       "      <th>63</th>\n",
       "      <td>10</td>\n",
       "      <td>peak</td>\n",
       "      <td>64.2</td>\n",
       "    </tr>\n",
       "    <tr>\n",
       "      <th>70</th>\n",
       "      <td>11</td>\n",
       "      <td>down</td>\n",
       "      <td>32.1</td>\n",
       "    </tr>\n",
       "    <tr>\n",
       "      <th>77</th>\n",
       "      <td>12</td>\n",
       "      <td>peak</td>\n",
       "      <td>64.2</td>\n",
       "    </tr>\n",
       "    <tr>\n",
       "      <th>84</th>\n",
       "      <td>13</td>\n",
       "      <td>peak</td>\n",
       "      <td>64.2</td>\n",
       "    </tr>\n",
       "    <tr>\n",
       "      <th>91</th>\n",
       "      <td>14</td>\n",
       "      <td>taper</td>\n",
       "      <td>54.6</td>\n",
       "    </tr>\n",
       "    <tr>\n",
       "      <th>98</th>\n",
       "      <td>15</td>\n",
       "      <td>taper</td>\n",
       "      <td>41.7</td>\n",
       "    </tr>\n",
       "    <tr>\n",
       "      <th>105</th>\n",
       "      <td>16</td>\n",
       "      <td>taper</td>\n",
       "      <td>19.3</td>\n",
       "    </tr>\n",
       "  </tbody>\n",
       "</table>\n",
       "</div>"
      ],
      "text/plain": [
       "     week  phase  weekly_mileage\n",
       "0       1   base            21.4\n",
       "7       2   base            30.0\n",
       "14      3   base            38.5\n",
       "21      4   base            47.1\n",
       "28      5   base            55.6\n",
       "35      6   base            64.2\n",
       "42      7   peak            64.2\n",
       "49      8   peak            64.2\n",
       "56      9   peak            64.2\n",
       "63     10   peak            64.2\n",
       "70     11   down            32.1\n",
       "77     12   peak            64.2\n",
       "84     13   peak            64.2\n",
       "91     14  taper            54.6\n",
       "98     15  taper            41.7\n",
       "105    16  taper            19.3"
      ]
     },
     "execution_count": 63,
     "metadata": {},
     "output_type": "execute_result"
    }
   ],
   "source": [
    "result[0][['week', 'phase', 'weekly_mileage']].drop_duplicates()"
   ]
  },
  {
   "cell_type": "code",
   "execution_count": 109,
   "id": "063400a4-542f-4c4e-ad9b-2b768e502021",
   "metadata": {},
   "outputs": [],
   "source": [
    "dist_level = result[2]\n",
    "max_lr = round(lr_model(dist_level)[0], 1)\n",
    "max_lr = 20.5"
   ]
  },
  {
   "cell_type": "code",
   "execution_count": 133,
   "id": "e742b170-3abf-450b-9ed0-7c3f8df0302b",
   "metadata": {},
   "outputs": [],
   "source": [
    "base_lr = []\n",
    "peak_lr = []\n",
    "down_week = result[0].loc[result[0].phase == 'down'].week.unique()[0]\n",
    "for index, row in result[0].iterrows():\n",
    "    if (row.day_code == 5) and (row.phase == 'base') and (row.weekly_mileage/3 < max_lr):\n",
    "        base_lr.append(round(row.weekly_mileage/3, 1))\n",
    "    elif (row.day_code == 5) and (row.phase == 'base') and (row.weekly_mileage/3 >= max_lr):\n",
    "        base_lr.append(max_lr)\n",
    "    elif (row.day_code == 5) and (row.phase == 'peak') and (row.week < down_week) and (row.weekly_mileage/3 < max_lr):\n",
    "        peak_lr.append(round(row.weekly_mileage/3, 1))\n",
    "    elif (row.day_code) == 5 and (row.phase == 'peak') and (row.week < down_week) and (row.weekly_mileage/3 >= max_lr):\n",
    "        peak_lr.append(max_lr)"
   ]
  },
  {
   "cell_type": "code",
   "execution_count": 194,
   "id": "bb0db217-32c4-4ecc-89c8-d1f41a98db13",
   "metadata": {},
   "outputs": [],
   "source": [
    "base_lr = []\n",
    "peak_lr = [lr_90pct]\n",
    "down_lr = []\n",
    "postdown_lr = []\n",
    "taper_lr = []\n",
    "\n",
    "#base long runs\n",
    "for index, row in result[0].iterrows():\n",
    "    if (row.day_code == 5) and (row.phase == 'base') and (row.weekly_mileage/3 < max_lr):\n",
    "        base_lr.append(round(row.weekly_mileage/3, 1))\n",
    "    elif (row.day_code == 5) and (row.phase == 'base') and (row.weekly_mileage/3 >= max_lr):\n",
    "        base_lr.append(max_lr)\n",
    "\n",
    "#peak to down week long runs\n",
    "down_week = result[0].loc[result[0].phase == 'down'].week.unique()[0]\n",
    "peak_weeks = len(result[0].loc[(result[0].phase == 'peak') & (result[0].week < down_week)].week.unique())\n",
    "lr_90pct = max_lr*0.9\n",
    "lr_diff = max_lr - lr_90pct\n",
    "step = lr_diff/(peak_weeks-1) \n",
    "\n",
    "lr_holder = lr_90pct\n",
    "for i in range(1,peak_weeks):\n",
    "    lr_holder+=step\n",
    "    peak_lr.append(round(lr_holder, 1))\n",
    "    \n",
    "#down week long run\n",
    "for index, row in result[0].iterrows():\n",
    "    if (row.day_code == 5) and (row.phase == 'down') and (row.weekly_mileage/3 < max_lr):\n",
    "        down_lr.append(round(row.weekly_mileage/3, 1))\n",
    "\n",
    "#post down week peak long runs\n",
    "postdown_peak = len(result[0].loc[(result[0].phase == 'peak') & (result[0].week > down_week)].week.unique())\n",
    "for i in range(1,postdown_peak+1):\n",
    "    postdown_lr.append(round(max_lr*0.95, 1))\n",
    "\n",
    "#taper long runs\n",
    "for index, row in result[0].iterrows():\n",
    "    if (row.day_code == 5) and (row.phase == 'taper') and (row.weekly_mileage/3 < max_lr):\n",
    "        taper_lr.append(round(row.weekly_mileage/3, 1))\n",
    "    elif (row.day_code == 5) and (row.phase == 'taper') and (row.weekly_mileage/3 >= max_lr):\n",
    "        taper_lr.append(max_lr)"
   ]
  },
  {
   "cell_type": "code",
   "execution_count": 195,
   "id": "9f257984-5e60-4aee-8aff-ee8028609fbe",
   "metadata": {},
   "outputs": [
    {
     "name": "stdout",
     "output_type": "stream",
     "text": [
      "[7.1, 10.0, 12.8, 15.7, 18.5, 20.5]\n",
      "[18.45, 19.1, 19.8, 20.5]\n",
      "[10.7]\n",
      "[19.5, 19.5]\n",
      "[18.2, 13.9, 6.4]\n"
     ]
    }
   ],
   "source": [
    "print(base_lr)\n",
    "print(peak_lr)\n",
    "print(down_lr)\n",
    "print(postdown_lr)\n",
    "print(taper_lr)"
   ]
  },
  {
   "cell_type": "code",
   "execution_count": 200,
   "id": "8669a40c-de77-4228-948a-8ed84b677bd7",
   "metadata": {},
   "outputs": [
    {
     "data": {
      "text/plain": [
       "16"
      ]
     },
     "execution_count": 200,
     "metadata": {},
     "output_type": "execute_result"
    }
   ],
   "source": [
    "len(base_lr + peak_lr + down_lr + postdown_lr + taper_lr + [])"
   ]
  },
  {
   "cell_type": "code",
   "execution_count": 164,
   "id": "eeb8ca9b-b0ee-4493-9965-e1f73580e903",
   "metadata": {},
   "outputs": [
    {
     "data": {
      "text/plain": [
       "2"
      ]
     },
     "execution_count": 164,
     "metadata": {},
     "output_type": "execute_result"
    }
   ],
   "source": [
    "postdown_peak = len(result[0].loc[(result[0].phase == 'peak') & (result[0].week > down_week)].week.unique())\n",
    "postdown_peak"
   ]
  },
  {
   "cell_type": "code",
   "execution_count": 169,
   "id": "c27d4481-c7a4-4084-be45-29ba375e4b6d",
   "metadata": {},
   "outputs": [
    {
     "name": "stdout",
     "output_type": "stream",
     "text": [
      "19.474999999999998\n",
      "19.474999999999998\n"
     ]
    }
   ],
   "source": [
    "for i in range(1,postdown_peak+1):\n",
    "    print(max_lr*0.95)"
   ]
  },
  {
   "cell_type": "markdown",
   "id": "4a7f3399-84fa-4533-9f75-061c4b4997cd",
   "metadata": {},
   "source": [
    "# pace predict"
   ]
  },
  {
   "cell_type": "code",
   "execution_count": 169,
   "id": "da6757a8-9337-4f2e-9daa-ff5272e08a16",
   "metadata": {},
   "outputs": [
    {
     "name": "stdout",
     "output_type": "stream",
     "text": [
      "coefficients:  [4.13143795 0.0949052 ]\n",
      "intercept:  -10.888737461832598\n",
      "level:  9.254081579750807\n"
     ]
    }
   ],
   "source": [
    "print('coefficients: ', level.coef_)\n",
    "print('intercept: ', level.intercept_)\n",
    "print('level: ', result[1])"
   ]
  },
  {
   "cell_type": "code",
   "execution_count": 170,
   "id": "cda652f7-a843-4556-8065-101be394c6a9",
   "metadata": {},
   "outputs": [],
   "source": [
    "level_raw = result[1]\n",
    "b1 = level.coef_[0]\n",
    "b2 = level.coef_[1]\n",
    "b0 = level.intercept_\n",
    "\n",
    "five_k = ((level_raw - b0) - (3.1*b2)) / b1\n",
    "ten_k = ((level_raw - b0) - (10.2*b2)) / b1\n",
    "hmp = ((level_raw - b0) - (13.1*b2)) / b1\n",
    "mp = ((level_raw - b0) - (26.2*b2)) / b1"
   ]
  },
  {
   "cell_type": "code",
   "execution_count": 171,
   "id": "35132bf0-fa0d-4b34-af70-95e2ecbd5035",
   "metadata": {},
   "outputs": [
    {
     "name": "stdout",
     "output_type": "stream",
     "text": [
      "5k pace:  (5, 34.98)\n",
      "10k pace:  (5, 46.74)\n",
      "hm pace:  (5, 51.78)\n",
      "m pace:  (6, 16.560000000000002)\n"
     ]
    }
   ],
   "source": [
    "print('5k pace: ', meters_to_mins(five_k))\n",
    "print('10k pace: ', meters_to_mins(ten_k))\n",
    "print('hm pace: ', meters_to_mins(hmp))\n",
    "print('m pace: ', meters_to_mins(mp))"
   ]
  },
  {
   "cell_type": "code",
   "execution_count": 35,
   "id": "ea65c8b4-a256-462f-8515-866f5f987b6e",
   "metadata": {},
   "outputs": [
    {
     "data": {
      "text/plain": [
       "2.232"
      ]
     },
     "execution_count": 35,
     "metadata": {},
     "output_type": "execute_result"
    }
   ],
   "source": [
    "((3*800 + 3*400)/1000)*0.62"
   ]
  },
  {
   "cell_type": "code",
   "execution_count": 30,
   "id": "a2d4918e-db13-490c-ade9-68da24d8c46e",
   "metadata": {},
   "outputs": [
    {
     "data": {
      "text/plain": [
       "1.65"
      ]
     },
     "execution_count": 30,
     "metadata": {},
     "output_type": "execute_result"
    }
   ],
   "source": [
    "11*.15"
   ]
  },
  {
   "cell_type": "code",
   "execution_count": 38,
   "id": "e78ab4e1-26c0-4132-b950-3e10c8976300",
   "metadata": {},
   "outputs": [
    {
     "data": {
      "text/plain": [
       "0.1"
      ]
     },
     "execution_count": 38,
     "metadata": {},
     "output_type": "execute_result"
    }
   ],
   "source": [
    "(1/600)*60"
   ]
  },
  {
   "cell_type": "code",
   "execution_count": 43,
   "id": "30b7150d-53ab-4e60-a24b-c196152f8b42",
   "metadata": {},
   "outputs": [
    {
     "name": "stdout",
     "output_type": "stream",
     "text": [
      "30 sec:  0.05\n",
      "45 sec:  0.07500000000000001\n",
      "60 sec:  0.1\n",
      "90 sec:  0.15000000000000002\n",
      "2 min:  0.2\n",
      "2.5 min:  0.25\n"
     ]
    }
   ],
   "source": [
    "#jog rest intervals in miles:\n",
    "\n",
    "print('30 sec: ', (1/600)*30)\n",
    "print('45 sec: ', (1/600)*45)\n",
    "print('60 sec: ', (1/600)*60)\n",
    "print('90 sec: ', (1/600)*90)\n",
    "print('2 min: ', (1/600)*120)\n",
    "print('2.5 min: ', (1/600)*150)\n"
   ]
  },
  {
   "cell_type": "code",
   "execution_count": null,
   "id": "b8d78d07-d3c0-4e1a-87b0-c6716f24444c",
   "metadata": {},
   "outputs": [],
   "source": []
  }
 ],
 "metadata": {
  "kernelspec": {
   "display_name": "Python 3 (ipykernel)",
   "language": "python",
   "name": "python3"
  },
  "language_info": {
   "codemirror_mode": {
    "name": "ipython",
    "version": 3
   },
   "file_extension": ".py",
   "mimetype": "text/x-python",
   "name": "python",
   "nbconvert_exporter": "python",
   "pygments_lexer": "ipython3",
   "version": "3.9.9"
  }
 },
 "nbformat": 4,
 "nbformat_minor": 5
}
